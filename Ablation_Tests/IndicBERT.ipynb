{
  "nbformat": 4,
  "nbformat_minor": 0,
  "metadata": {
    "colab": {
      "provenance": [],
      "gpuType": "T4"
    },
    "kernelspec": {
      "name": "python3",
      "display_name": "Python 3"
    },
    "language_info": {
      "name": "python"
    },
    "accelerator": "GPU",
    "widgets": {
      "application/vnd.jupyter.widget-state+json": {
        "e90560e557e140b6a508885e252a0a3c": {
          "model_module": "@jupyter-widgets/controls",
          "model_name": "HBoxModel",
          "model_module_version": "1.5.0",
          "state": {
            "_dom_classes": [],
            "_model_module": "@jupyter-widgets/controls",
            "_model_module_version": "1.5.0",
            "_model_name": "HBoxModel",
            "_view_count": null,
            "_view_module": "@jupyter-widgets/controls",
            "_view_module_version": "1.5.0",
            "_view_name": "HBoxView",
            "box_style": "",
            "children": [
              "IPY_MODEL_f7c0c5a1557247918826e084e27943c3",
              "IPY_MODEL_5561ccbe46944dcc972cb5dfe0d7ed60",
              "IPY_MODEL_21ebce7947954d80b802a97b1acf8e9b"
            ],
            "layout": "IPY_MODEL_d9c9f5d912694e82b1c3947f908017ca"
          }
        },
        "f7c0c5a1557247918826e084e27943c3": {
          "model_module": "@jupyter-widgets/controls",
          "model_name": "HTMLModel",
          "model_module_version": "1.5.0",
          "state": {
            "_dom_classes": [],
            "_model_module": "@jupyter-widgets/controls",
            "_model_module_version": "1.5.0",
            "_model_name": "HTMLModel",
            "_view_count": null,
            "_view_module": "@jupyter-widgets/controls",
            "_view_module_version": "1.5.0",
            "_view_name": "HTMLView",
            "description": "",
            "description_tooltip": null,
            "layout": "IPY_MODEL_58388f7b9c48465ab55db4f02b5421df",
            "placeholder": "​",
            "style": "IPY_MODEL_7b1fdd861e774acc829a030fb567cc61",
            "value": "pytorch_model.bin:  64%"
          }
        },
        "5561ccbe46944dcc972cb5dfe0d7ed60": {
          "model_module": "@jupyter-widgets/controls",
          "model_name": "FloatProgressModel",
          "model_module_version": "1.5.0",
          "state": {
            "_dom_classes": [],
            "_model_module": "@jupyter-widgets/controls",
            "_model_module_version": "1.5.0",
            "_model_name": "FloatProgressModel",
            "_view_count": null,
            "_view_module": "@jupyter-widgets/controls",
            "_view_module_version": "1.5.0",
            "_view_name": "ProgressView",
            "bar_style": "danger",
            "description": "",
            "description_tooltip": null,
            "layout": "IPY_MODEL_cbc934ed16bb4cb4a2857f1438d83ffe",
            "max": 1734284195,
            "min": 0,
            "orientation": "horizontal",
            "style": "IPY_MODEL_ee21097d1902414d90a289389e2a6681",
            "value": 1115624355
          }
        },
        "21ebce7947954d80b802a97b1acf8e9b": {
          "model_module": "@jupyter-widgets/controls",
          "model_name": "HTMLModel",
          "model_module_version": "1.5.0",
          "state": {
            "_dom_classes": [],
            "_model_module": "@jupyter-widgets/controls",
            "_model_module_version": "1.5.0",
            "_model_name": "HTMLModel",
            "_view_count": null,
            "_view_module": "@jupyter-widgets/controls",
            "_view_module_version": "1.5.0",
            "_view_name": "HTMLView",
            "description": "",
            "description_tooltip": null,
            "layout": "IPY_MODEL_b1a17fe2ee5649879e99174bed2dbb78",
            "placeholder": "​",
            "style": "IPY_MODEL_8fae703736d24c2db8566d2dab811f02",
            "value": " 1.12G/1.73G [00:01&lt;00:01, 359MB/s]"
          }
        },
        "d9c9f5d912694e82b1c3947f908017ca": {
          "model_module": "@jupyter-widgets/base",
          "model_name": "LayoutModel",
          "model_module_version": "1.2.0",
          "state": {
            "_model_module": "@jupyter-widgets/base",
            "_model_module_version": "1.2.0",
            "_model_name": "LayoutModel",
            "_view_count": null,
            "_view_module": "@jupyter-widgets/base",
            "_view_module_version": "1.2.0",
            "_view_name": "LayoutView",
            "align_content": null,
            "align_items": null,
            "align_self": null,
            "border": null,
            "bottom": null,
            "display": null,
            "flex": null,
            "flex_flow": null,
            "grid_area": null,
            "grid_auto_columns": null,
            "grid_auto_flow": null,
            "grid_auto_rows": null,
            "grid_column": null,
            "grid_gap": null,
            "grid_row": null,
            "grid_template_areas": null,
            "grid_template_columns": null,
            "grid_template_rows": null,
            "height": null,
            "justify_content": null,
            "justify_items": null,
            "left": null,
            "margin": null,
            "max_height": null,
            "max_width": null,
            "min_height": null,
            "min_width": null,
            "object_fit": null,
            "object_position": null,
            "order": null,
            "overflow": null,
            "overflow_x": null,
            "overflow_y": null,
            "padding": null,
            "right": null,
            "top": null,
            "visibility": null,
            "width": null
          }
        },
        "58388f7b9c48465ab55db4f02b5421df": {
          "model_module": "@jupyter-widgets/base",
          "model_name": "LayoutModel",
          "model_module_version": "1.2.0",
          "state": {
            "_model_module": "@jupyter-widgets/base",
            "_model_module_version": "1.2.0",
            "_model_name": "LayoutModel",
            "_view_count": null,
            "_view_module": "@jupyter-widgets/base",
            "_view_module_version": "1.2.0",
            "_view_name": "LayoutView",
            "align_content": null,
            "align_items": null,
            "align_self": null,
            "border": null,
            "bottom": null,
            "display": null,
            "flex": null,
            "flex_flow": null,
            "grid_area": null,
            "grid_auto_columns": null,
            "grid_auto_flow": null,
            "grid_auto_rows": null,
            "grid_column": null,
            "grid_gap": null,
            "grid_row": null,
            "grid_template_areas": null,
            "grid_template_columns": null,
            "grid_template_rows": null,
            "height": null,
            "justify_content": null,
            "justify_items": null,
            "left": null,
            "margin": null,
            "max_height": null,
            "max_width": null,
            "min_height": null,
            "min_width": null,
            "object_fit": null,
            "object_position": null,
            "order": null,
            "overflow": null,
            "overflow_x": null,
            "overflow_y": null,
            "padding": null,
            "right": null,
            "top": null,
            "visibility": null,
            "width": null
          }
        },
        "7b1fdd861e774acc829a030fb567cc61": {
          "model_module": "@jupyter-widgets/controls",
          "model_name": "DescriptionStyleModel",
          "model_module_version": "1.5.0",
          "state": {
            "_model_module": "@jupyter-widgets/controls",
            "_model_module_version": "1.5.0",
            "_model_name": "DescriptionStyleModel",
            "_view_count": null,
            "_view_module": "@jupyter-widgets/base",
            "_view_module_version": "1.2.0",
            "_view_name": "StyleView",
            "description_width": ""
          }
        },
        "cbc934ed16bb4cb4a2857f1438d83ffe": {
          "model_module": "@jupyter-widgets/base",
          "model_name": "LayoutModel",
          "model_module_version": "1.2.0",
          "state": {
            "_model_module": "@jupyter-widgets/base",
            "_model_module_version": "1.2.0",
            "_model_name": "LayoutModel",
            "_view_count": null,
            "_view_module": "@jupyter-widgets/base",
            "_view_module_version": "1.2.0",
            "_view_name": "LayoutView",
            "align_content": null,
            "align_items": null,
            "align_self": null,
            "border": null,
            "bottom": null,
            "display": null,
            "flex": null,
            "flex_flow": null,
            "grid_area": null,
            "grid_auto_columns": null,
            "grid_auto_flow": null,
            "grid_auto_rows": null,
            "grid_column": null,
            "grid_gap": null,
            "grid_row": null,
            "grid_template_areas": null,
            "grid_template_columns": null,
            "grid_template_rows": null,
            "height": null,
            "justify_content": null,
            "justify_items": null,
            "left": null,
            "margin": null,
            "max_height": null,
            "max_width": null,
            "min_height": null,
            "min_width": null,
            "object_fit": null,
            "object_position": null,
            "order": null,
            "overflow": null,
            "overflow_x": null,
            "overflow_y": null,
            "padding": null,
            "right": null,
            "top": null,
            "visibility": null,
            "width": null
          }
        },
        "ee21097d1902414d90a289389e2a6681": {
          "model_module": "@jupyter-widgets/controls",
          "model_name": "ProgressStyleModel",
          "model_module_version": "1.5.0",
          "state": {
            "_model_module": "@jupyter-widgets/controls",
            "_model_module_version": "1.5.0",
            "_model_name": "ProgressStyleModel",
            "_view_count": null,
            "_view_module": "@jupyter-widgets/base",
            "_view_module_version": "1.2.0",
            "_view_name": "StyleView",
            "bar_color": null,
            "description_width": ""
          }
        },
        "b1a17fe2ee5649879e99174bed2dbb78": {
          "model_module": "@jupyter-widgets/base",
          "model_name": "LayoutModel",
          "model_module_version": "1.2.0",
          "state": {
            "_model_module": "@jupyter-widgets/base",
            "_model_module_version": "1.2.0",
            "_model_name": "LayoutModel",
            "_view_count": null,
            "_view_module": "@jupyter-widgets/base",
            "_view_module_version": "1.2.0",
            "_view_name": "LayoutView",
            "align_content": null,
            "align_items": null,
            "align_self": null,
            "border": null,
            "bottom": null,
            "display": null,
            "flex": null,
            "flex_flow": null,
            "grid_area": null,
            "grid_auto_columns": null,
            "grid_auto_flow": null,
            "grid_auto_rows": null,
            "grid_column": null,
            "grid_gap": null,
            "grid_row": null,
            "grid_template_areas": null,
            "grid_template_columns": null,
            "grid_template_rows": null,
            "height": null,
            "justify_content": null,
            "justify_items": null,
            "left": null,
            "margin": null,
            "max_height": null,
            "max_width": null,
            "min_height": null,
            "min_width": null,
            "object_fit": null,
            "object_position": null,
            "order": null,
            "overflow": null,
            "overflow_x": null,
            "overflow_y": null,
            "padding": null,
            "right": null,
            "top": null,
            "visibility": null,
            "width": null
          }
        },
        "8fae703736d24c2db8566d2dab811f02": {
          "model_module": "@jupyter-widgets/controls",
          "model_name": "DescriptionStyleModel",
          "model_module_version": "1.5.0",
          "state": {
            "_model_module": "@jupyter-widgets/controls",
            "_model_module_version": "1.5.0",
            "_model_name": "DescriptionStyleModel",
            "_view_count": null,
            "_view_module": "@jupyter-widgets/base",
            "_view_module_version": "1.2.0",
            "_view_name": "StyleView",
            "description_width": ""
          }
        }
      }
    }
  },
  "cells": [
    {
      "cell_type": "code",
      "execution_count": null,
      "metadata": {
        "id": "oMUPyMIP4bhk"
      },
      "outputs": [],
      "source": [
        "# ===============================\n",
        "# 1. IMPORTS & SETUP\n",
        "# ===============================\n",
        "import pandas as pd\n",
        "import numpy as np\n",
        "import torch\n",
        "import torch.nn as nn\n",
        "from torch.utils.data import Dataset, DataLoader\n",
        "from transformers import BertTokenizer, BertModel, AutoTokenizer, AutoModel\n",
        "from sklearn.model_selection import train_test_split\n",
        "from sklearn.metrics import classification_report\n",
        "from tqdm import tqdm\n",
        "import copy\n",
        "\n",
        "device = torch.device(\"cuda\" if torch.cuda.is_available() else \"cpu\")\n",
        "MAX_LEN = 128\n",
        "BATCH_SIZE = 16"
      ]
    },
    {
      "cell_type": "code",
      "source": [
        "# ===============================\n",
        "# 2. LOAD & PREPROCESS DATA\n",
        "# ===============================\n",
        "# Set random seed for reproducibility\n",
        "SEED = 42  # You can choose any integer value\n",
        "\n",
        "# Load the dataset from Excel file\n",
        "df = pd.read_excel('/content/dataset/Konkani_Dataset.xlsx')\n",
        "\n",
        "# Display basic information about the dataset\n",
        "print(f\"Total samples in dataset: {len(df)}\")\n",
        "print(f\"Column names: {df.columns.tolist()}\")\n",
        "print(f\"Idiom distribution: {df['Idiom'].value_counts().to_dict()}\")\n",
        "print(f\"Metaphor distribution: {df['Metaphor'].value_counts().to_dict()}\")\n",
        "\n",
        "# Prepare datasets based on the existing Split column for Idiom detection\n",
        "idiom_train_df = df[df['Split'] == 'Train']\n",
        "idiom_val_df = df[df['Split'] == 'Val']\n",
        "idiom_test_df = df[df['Split'] == 'Test']\n",
        "\n",
        "print(\"\\n=== IDIOM DETECTION TASK (Using original split) ===\")\n",
        "print(f\"Idiom training set size: {len(idiom_train_df)}\")\n",
        "print(f\"Idiom validation set size: {len(idiom_val_df)}\")\n",
        "print(f\"Idiom test set size: {len(idiom_test_df)}\")\n",
        "print(f\"Idiom train/test ratio: {len(idiom_train_df)/(len(idiom_train_df)+len(idiom_test_df)):.2f}/{len(idiom_test_df)/(len(idiom_train_df)+len(idiom_test_df)):.2f}\")\n",
        "\n",
        "# Create a balanced dataset for metaphor detection (100 Yes, 100 No)\n",
        "print(\"\\n=== METAPHOR DETECTION TASK (Balanced subset) ===\")\n",
        "metaphor_yes = df[df['Metaphor'] == 'Yes'].head(100)\n",
        "metaphor_no = df[df['Metaphor'] == 'No'].head(100)\n",
        "metaphor_df = pd.concat([metaphor_yes, metaphor_no]).reset_index(drop=True)\n",
        "\n",
        "# Create train-test split for metaphor detection (80% train, 20% test)\n",
        "metaphor_train_df, metaphor_test_df = train_test_split(\n",
        "    metaphor_df,\n",
        "    test_size=0.2,\n",
        "    random_state=SEED,\n",
        "    stratify=metaphor_df['Metaphor']  # Ensure balanced split\n",
        ")\n",
        "\n",
        "print(f\"Balanced metaphor dataset size: {len(metaphor_df)}\")\n",
        "print(f\"Metaphor distribution: {metaphor_df['Metaphor'].value_counts().to_dict()}\")\n",
        "print(f\"Metaphor training set size: {len(metaphor_train_df)}\")\n",
        "print(f\"Metaphor test set size: {len(metaphor_test_df)}\")\n"
      ],
      "metadata": {
        "colab": {
          "base_uri": "https://localhost:8080/"
        },
        "id": "SF_lrdyX5LoD",
        "outputId": "219e5f44-eea2-4c95-9de8-dab98ab6da99"
      },
      "execution_count": null,
      "outputs": [
        {
          "output_type": "stream",
          "name": "stdout",
          "text": [
            "Total samples in dataset: 6520\n",
            "Column names: ['Id', 'Expression', 'Contextual_Meaning', 'Sentence', 'Idiom', 'Metaphor', 'Split', 'Unnamed: 7', 'Unnamed: 8']\n",
            "Idiom distribution: {'Yes': 4399, 'No': 2121}\n",
            "Metaphor distribution: {'No': 383, 'Yes': 117}\n",
            "\n",
            "=== IDIOM DETECTION TASK (Using original split) ===\n",
            "Idiom training set size: 4990\n",
            "Idiom validation set size: 0\n",
            "Idiom test set size: 1530\n",
            "Idiom train/test ratio: 0.77/0.23\n",
            "\n",
            "=== METAPHOR DETECTION TASK (Balanced subset) ===\n",
            "Balanced metaphor dataset size: 200\n",
            "Metaphor distribution: {'Yes': 100, 'No': 100}\n",
            "Metaphor training set size: 160\n",
            "Metaphor test set size: 40\n"
          ]
        }
      ]
    },
    {
      "cell_type": "code",
      "source": [
        "# ===============================\n",
        "# 3. TOKENIZER + DATASET\n",
        "# ===============================\n",
        "# Initialize the multilingual BERT tokenizer\n",
        "'''\n",
        "tokenizer = BertTokenizer.from_pretrained(\"bert-base-multilingual-cased\")\n",
        "'''\n",
        "tokenizer = AutoTokenizer.from_pretrained(\"ai4bharat/IndicBERTv2-mlm-only\")\n",
        "\n",
        "# Define a dataset class that works for both idiom and metaphor classification\n",
        "class TextClassificationDataset(Dataset):\n",
        "    def __init__(self, dataframe, tokenizer, task_type=\"idiom\", max_len=MAX_LEN):\n",
        "        \"\"\"\n",
        "        Dataset class for text classification tasks\n",
        "\n",
        "        Args:\n",
        "            dataframe: Pandas DataFrame containing the data\n",
        "            tokenizer: Tokenizer to use for encoding text\n",
        "            task_type: Type of classification task (\"idiom\" or \"metaphor\")\n",
        "            max_len: Maximum sequence length for tokenization\n",
        "        \"\"\"\n",
        "        self.dataframe = dataframe\n",
        "        self.tokenizer = tokenizer\n",
        "        self.task_type = task_type\n",
        "        self.max_len = max_len\n",
        "\n",
        "        # Set the label column based on task type\n",
        "        self.label_col = \"Idiom\" if task_type == \"idiom\" else \"Metaphor\"\n",
        "\n",
        "        # Convert Yes/No labels to numeric values\n",
        "        self.dataframe[\"label\"] = self.dataframe[self.label_col].map({\"Yes\": 1, \"No\": 0})\n",
        "\n",
        "    def __len__(self):\n",
        "        return len(self.dataframe)\n",
        "\n",
        "    def __getitem__(self, idx):\n",
        "        row = self.dataframe.iloc[idx]\n",
        "\n",
        "        # Format text based on task type\n",
        "        if self.task_type == \"idiom\":\n",
        "            text_to_encode = \"[IDIOM]\"+ str(row[\"Expression\"]) + \" [SEP] \" + str(row[\"Sentence\"])\n",
        "        else:  # metaphor\n",
        "            text_to_encode = str(row[\"Sentence\"])\n",
        "\n",
        "        # Tokenize the text\n",
        "        encoding = self.tokenizer(\n",
        "            text_to_encode,\n",
        "            truncation=True,\n",
        "            padding='max_length',\n",
        "            max_length=self.max_len,\n",
        "            return_tensors='pt'\n",
        "        )\n",
        "\n",
        "        return {\n",
        "            \"input_ids\": encoding[\"input_ids\"].squeeze(),\n",
        "            \"attention_mask\": encoding[\"attention_mask\"].squeeze(),\n",
        "            \"label\": torch.tensor(row[\"label\"], dtype=torch.long)\n",
        "        }\n",
        "\n",
        "# ===============================\n",
        "# IDIOM CLASSIFICATION SETUP\n",
        "# ===============================\n",
        "# Create validation set from training data if needed\n",
        "if len(idiom_val_df) == 0:\n",
        "    print(\"Creating validation set from training data...\")\n",
        "    # Get unique expressions to avoid data leakage\n",
        "    unique_expressions = idiom_train_df[\"Expression\"].unique()\n",
        "\n",
        "    # Split expressions into train and val (no expression overlap)\n",
        "    expr_train, expr_val = train_test_split(\n",
        "        unique_expressions, test_size=0.2, random_state=42\n",
        "    )\n",
        "\n",
        "    # Assign expression-based split\n",
        "    idiom_val_df = idiom_train_df[idiom_train_df[\"Expression\"].isin(expr_val)].copy()\n",
        "    idiom_train_df = idiom_train_df[idiom_train_df[\"Expression\"].isin(expr_train)].copy()\n",
        "\n",
        "print(f\"Idiom - Train rows: {len(idiom_train_df)}, Val rows: {len(idiom_val_df)}, Test rows: {len(idiom_test_df)}\")\n",
        "\n",
        "# Create idiom datasets\n",
        "idiom_train_ds = TextClassificationDataset(idiom_train_df, tokenizer, task_type=\"idiom\")\n",
        "idiom_val_ds = TextClassificationDataset(idiom_val_df, tokenizer, task_type=\"idiom\")\n",
        "idiom_test_ds = TextClassificationDataset(idiom_test_df, tokenizer, task_type=\"idiom\")\n",
        "\n",
        "# Create idiom dataloaders\n",
        "idiom_train_loader = DataLoader(idiom_train_ds, batch_size=BATCH_SIZE, shuffle=True)\n",
        "idiom_val_loader = DataLoader(idiom_val_ds, batch_size=BATCH_SIZE)\n",
        "idiom_test_loader = DataLoader(idiom_test_ds, batch_size=BATCH_SIZE)\n",
        "\n",
        "# ===============================\n",
        "# METAPHOR CLASSIFICATION SETUP\n",
        "# ===============================\n",
        "print(f\"Metaphor - Train rows: {len(metaphor_train_df)}, Test rows: {len(metaphor_test_df)}\")\n",
        "\n",
        "# Create metaphor datasets\n",
        "metaphor_train_ds = TextClassificationDataset(metaphor_train_df, tokenizer, task_type=\"metaphor\")\n",
        "metaphor_test_ds = TextClassificationDataset(metaphor_test_df, tokenizer, task_type=\"metaphor\")\n",
        "\n",
        "# Create metaphor dataloaders\n",
        "metaphor_train_loader = DataLoader(metaphor_train_ds, batch_size=BATCH_SIZE, shuffle=True)\n",
        "metaphor_test_loader = DataLoader(metaphor_test_ds, batch_size=BATCH_SIZE)\n",
        "\n",
        "print(\"Dataset and DataLoader setup complete!\")\n"
      ],
      "metadata": {
        "colab": {
          "base_uri": "https://localhost:8080/"
        },
        "id": "r2buNVzX76_6",
        "outputId": "7b766b58-2c26-45f3-ebf4-085101d5f301"
      },
      "execution_count": null,
      "outputs": [
        {
          "output_type": "stream",
          "name": "stdout",
          "text": [
            "Creating validation set from training data...\n",
            "Idiom - Train rows: 4029, Val rows: 961, Test rows: 1530\n",
            "Metaphor - Train rows: 160, Test rows: 40\n",
            "Dataset and DataLoader setup complete!\n"
          ]
        },
        {
          "output_type": "stream",
          "name": "stderr",
          "text": [
            "/tmp/ipython-input-7-4158217553.py:31: SettingWithCopyWarning: \n",
            "A value is trying to be set on a copy of a slice from a DataFrame.\n",
            "Try using .loc[row_indexer,col_indexer] = value instead\n",
            "\n",
            "See the caveats in the documentation: https://pandas.pydata.org/pandas-docs/stable/user_guide/indexing.html#returning-a-view-versus-a-copy\n",
            "  self.dataframe[\"label\"] = self.dataframe[self.label_col].map({\"Yes\": 1, \"No\": 0})\n"
          ]
        }
      ]
    },
    {
      "cell_type": "code",
      "source": [
        "# ===============================\n",
        "# 4. MODEL: mBERT + BiLSTM\n",
        "# ===============================\n",
        "'''\n",
        "class BERT_LSTM(nn.Module):\n",
        "    def __init__(self, hidden_dim=128, num_classes=2):\n",
        "        \"\"\"\n",
        "        BERT + BiLSTM model for text classification\n",
        "\n",
        "        Args:\n",
        "            hidden_dim: Hidden dimension of the LSTM\n",
        "            num_classes: Number of output classes\n",
        "        \"\"\"\n",
        "        super(BERT_LSTM, self).__init__()\n",
        "        self.bert = BertModel.from_pretrained(\"bert-base-multilingual-cased\")\n",
        "        self.lstm = nn.LSTM(input_size=768, hidden_size=hidden_dim, batch_first=True, bidirectional=True)\n",
        "        self.dropout = nn.Dropout(0.1)\n",
        "        self.fc = nn.Linear(hidden_dim * 2, num_classes)\n",
        "\n",
        "    def forward(self, input_ids, attention_mask):\n",
        "        outputs = self.bert(input_ids=input_ids, attention_mask=attention_mask)\n",
        "        lstm_out, _ = self.lstm(outputs.last_hidden_state)\n",
        "        pooled = torch.mean(lstm_out, dim=1)\n",
        "        return self.fc(self.dropout(pooled))\n",
        "'''\n",
        "\n",
        "'''\n",
        "class BERT_Only(nn.Module):\n",
        "    def __init__(self, num_classes=2):\n",
        "        super(BERT_Only, self).__init__()\n",
        "        self.bert = BertModel.from_pretrained(\"bert-base-multilingual-cased\")\n",
        "        self.dropout = nn.Dropout(0.1)\n",
        "        self.fc = nn.Linear(768, num_classes)\n",
        "\n",
        "    def forward(self, input_ids, attention_mask):\n",
        "        outputs = self.bert(input_ids=input_ids, attention_mask=attention_mask)\n",
        "        pooled = outputs.pooler_output  # [CLS] token\n",
        "        return self.fc(self.dropout(pooled))\n",
        "'''\n",
        "\n",
        "class IndicBERTv2_Only(nn.Module):\n",
        "    def __init__(self, num_classes=2):\n",
        "        super(IndicBERTv2_Only, self).__init__()\n",
        "        self.bert = AutoModel.from_pretrained(\"ai4bharat/IndicBERTv2-mlm-only\")\n",
        "        self.dropout = nn.Dropout(0.1)\n",
        "        self.fc = nn.Linear(768, num_classes)\n",
        "\n",
        "    def forward(self, input_ids, attention_mask):\n",
        "        outputs = self.bert(input_ids=input_ids, attention_mask=attention_mask)\n",
        "        pooled = outputs.last_hidden_state[:, 0]  # Use CLS token manually since pooler_output not present\n",
        "        return self.fc(self.dropout(pooled))\n",
        "\n",
        "\n",
        "# Create separate models for idiom and metaphor classification\n",
        "print(\"Initializing models...\")\n",
        "idiom_model = IndicBERTv2_Only(num_classes=2).to(device)\n",
        "metaphor_model = IndicBERTv2_Only(num_classes=2).to(device)\n",
        "\n",
        "# Initialize optimizers and loss function\n",
        "idiom_optimizer = torch.optim.AdamW(idiom_model.parameters(), lr=2e-5)\n",
        "metaphor_optimizer = torch.optim.AdamW(metaphor_model.parameters(), lr=2e-5)\n",
        "loss_fn = nn.CrossEntropyLoss()\n",
        "\n",
        "print(f\"Models initialized on device: {device}\")\n",
        "print(\"Idiom model and Metaphor model share the same architecture but will be trained separately\")\n",
        "\n"
      ],
      "metadata": {
        "colab": {
          "base_uri": "https://localhost:8080/",
          "height": 101,
          "referenced_widgets": [
            "e90560e557e140b6a508885e252a0a3c",
            "f7c0c5a1557247918826e084e27943c3",
            "5561ccbe46944dcc972cb5dfe0d7ed60",
            "21ebce7947954d80b802a97b1acf8e9b",
            "d9c9f5d912694e82b1c3947f908017ca",
            "58388f7b9c48465ab55db4f02b5421df",
            "7b1fdd861e774acc829a030fb567cc61",
            "cbc934ed16bb4cb4a2857f1438d83ffe",
            "ee21097d1902414d90a289389e2a6681",
            "b1a17fe2ee5649879e99174bed2dbb78",
            "8fae703736d24c2db8566d2dab811f02"
          ]
        },
        "id": "qEEjcB-n85a_",
        "outputId": "722c7ca5-2f49-40fa-d844-4aff748a4e47"
      },
      "execution_count": null,
      "outputs": [
        {
          "output_type": "stream",
          "name": "stdout",
          "text": [
            "Initializing models...\n"
          ]
        },
        {
          "output_type": "display_data",
          "data": {
            "text/plain": [
              "pytorch_model.bin:  36%|###5      | 619M/1.73G [00:00<?, ?B/s]"
            ],
            "application/vnd.jupyter.widget-view+json": {
              "version_major": 2,
              "version_minor": 0,
              "model_id": "e90560e557e140b6a508885e252a0a3c"
            }
          },
          "metadata": {}
        },
        {
          "output_type": "stream",
          "name": "stdout",
          "text": [
            "Models initialized on device: cuda\n",
            "Idiom model and Metaphor model share the same architecture but will be trained separately\n"
          ]
        }
      ]
    },
    {
      "cell_type": "code",
      "source": [
        "# ===============================\n",
        "# 5. TRAINING & VALIDATION\n",
        "# ===============================\n",
        "def train(model, loader, optimizer):\n",
        "    \"\"\"Train the model for one epoch\"\"\"\n",
        "    model.train()\n",
        "    total_loss = 0\n",
        "    for batch in tqdm(loader, desc=\"Training\"):\n",
        "        input_ids = batch[\"input_ids\"].to(device)\n",
        "        attention_mask = batch[\"attention_mask\"].to(device)\n",
        "        labels = batch[\"label\"].to(device)\n",
        "\n",
        "        optimizer.zero_grad()\n",
        "        outputs = model(input_ids, attention_mask)\n",
        "        loss = loss_fn(outputs, labels)\n",
        "        loss.backward()\n",
        "        optimizer.step()\n",
        "        total_loss += loss.item()\n",
        "    return total_loss / len(loader)\n",
        "\n",
        "def validate(model, loader):\n",
        "    \"\"\"Validate the model on validation set\"\"\"\n",
        "    model.eval()\n",
        "    total_loss = 0\n",
        "    with torch.no_grad():\n",
        "        for batch in loader:\n",
        "            input_ids = batch[\"input_ids\"].to(device)\n",
        "            attention_mask = batch[\"attention_mask\"].to(device)\n",
        "            labels = batch[\"label\"].to(device)\n",
        "\n",
        "            outputs = model(input_ids, attention_mask)\n",
        "            loss = loss_fn(outputs, labels)\n",
        "            total_loss += loss.item()\n",
        "    return total_loss / len(loader)\n",
        "\n",
        "def evaluate(model, loader, task_type=\"idiom\"):\n",
        "    \"\"\"Evaluate the model and print classification report\"\"\"\n",
        "    model.eval()\n",
        "    predictions, targets = [], []\n",
        "    with torch.no_grad():\n",
        "        for batch in loader:\n",
        "            input_ids = batch[\"input_ids\"].to(device)\n",
        "            attention_mask = batch[\"attention_mask\"].to(device)\n",
        "            labels = batch[\"label\"].to(device)\n",
        "\n",
        "            outputs = model(input_ids, attention_mask)\n",
        "            preds = torch.argmax(outputs, dim=1)\n",
        "            predictions.extend(preds.cpu().numpy())\n",
        "            targets.extend(labels.cpu().numpy())\n",
        "\n",
        "    # Set appropriate target names based on task type\n",
        "    if task_type == \"idiom\":\n",
        "        target_names = [\"Non-Idiom\", \"Idiom\"]\n",
        "    else:  # metaphor\n",
        "        target_names = [\"Non-Metaphor\", \"Metaphor\"]\n",
        "\n",
        "    print(classification_report(\n",
        "        targets, predictions,\n",
        "        labels=[0, 1],\n",
        "        target_names=target_names,\n",
        "        zero_division=0\n",
        "    ))\n",
        "\n",
        "    return predictions, targets\n"
      ],
      "metadata": {
        "id": "r3AK4SI186Sp"
      },
      "execution_count": null,
      "outputs": []
    },
    {
      "cell_type": "code",
      "source": [
        "# ===============================\n",
        "# 6. EARLY STOPPING TRAINING\n",
        "# ===============================\n",
        "def train_with_early_stopping(model, train_loader, val_loader, optimizer, task_name, epochs=20, patience=10):\n",
        "    \"\"\"Train model with early stopping\"\"\"\n",
        "    print(f\"\\n=== Training {task_name} Model ===\")\n",
        "    best_val_loss = float('inf')\n",
        "    patience_counter = 0\n",
        "    best_model = None\n",
        "\n",
        "    for epoch in range(epochs):\n",
        "        print(f\"\\nEpoch {epoch + 1}\")\n",
        "        train_loss = train(model, train_loader, optimizer)\n",
        "        val_loss = validate(model, val_loader)\n",
        "        print(f\"Train Loss: {train_loss:.4f} | Val Loss: {val_loss:.4f}\")\n",
        "\n",
        "        if val_loss < best_val_loss:\n",
        "            best_val_loss = val_loss\n",
        "            best_model = copy.deepcopy(model.state_dict())\n",
        "            patience_counter = 0\n",
        "            print(\"✅ Validation loss improved, saving model.\")\n",
        "        else:\n",
        "            patience_counter += 1\n",
        "            print(\"⚠️ No improvement.\")\n",
        "\n",
        "        if patience_counter >= patience:\n",
        "            print(\"⏹️ Early stopping triggered.\")\n",
        "            break\n",
        "\n",
        "    # Load best model\n",
        "    model.load_state_dict(best_model)\n",
        "    print(f\"\\n=== {task_name} Model Training Complete ===\")\n",
        "    return model\n",
        "\n",
        "# Train idiom model\n",
        "EPOCHS = 20\n",
        "PATIENCE = 10\n",
        "\n",
        "# Check if validation set exists for idiom task\n",
        "if len(idiom_val_df) > 0:\n",
        "    idiom_model = train_with_early_stopping(\n",
        "        idiom_model, idiom_train_loader, idiom_val_loader,\n",
        "        idiom_optimizer, \"Idiom\", EPOCHS, PATIENCE\n",
        "    )\n",
        "    print(\"\\n=== Idiom Model Validation Results ===\")\n",
        "    evaluate(idiom_model, idiom_val_loader, task_type=\"idiom\")\n",
        "else:\n",
        "    print(\"No validation set available for idiom task. Skipping training.\")\n",
        "\n",
        "# Train metaphor model\n",
        "# Create validation set for metaphor if needed\n",
        "metaphor_val_df = metaphor_test_df  # Using test set as validation for simplicity\n",
        "metaphor_val_ds = TextClassificationDataset(metaphor_val_df, tokenizer, task_type=\"metaphor\")\n",
        "metaphor_val_loader = DataLoader(metaphor_val_ds, batch_size=BATCH_SIZE)\n",
        "\n",
        "metaphor_model = train_with_early_stopping(\n",
        "    metaphor_model, metaphor_train_loader, metaphor_val_loader,\n",
        "    metaphor_optimizer, \"Metaphor\", EPOCHS, PATIENCE\n",
        ")\n",
        "print(\"\\n=== Metaphor Model Validation Results ===\")\n",
        "evaluate(metaphor_model, metaphor_val_loader, task_type=\"metaphor\")\n"
      ],
      "metadata": {
        "colab": {
          "base_uri": "https://localhost:8080/"
        },
        "id": "O0WDgDvB9Tyb",
        "outputId": "09216c0d-1414-4dd6-9cf3-6572de330e94"
      },
      "execution_count": null,
      "outputs": [
        {
          "output_type": "stream",
          "name": "stdout",
          "text": [
            "\n",
            "=== Training Idiom Model ===\n",
            "\n",
            "Epoch 1\n"
          ]
        },
        {
          "output_type": "stream",
          "name": "stderr",
          "text": [
            "Training: 100%|██████████| 252/252 [01:39<00:00,  2.53it/s]\n"
          ]
        },
        {
          "output_type": "stream",
          "name": "stdout",
          "text": [
            "Train Loss: 0.5219 | Val Loss: 0.4027\n",
            "✅ Validation loss improved, saving model.\n",
            "\n",
            "Epoch 2\n"
          ]
        },
        {
          "output_type": "stream",
          "name": "stderr",
          "text": [
            "Training: 100%|██████████| 252/252 [01:42<00:00,  2.45it/s]\n"
          ]
        },
        {
          "output_type": "stream",
          "name": "stdout",
          "text": [
            "Train Loss: 0.3444 | Val Loss: 0.3727\n",
            "✅ Validation loss improved, saving model.\n",
            "\n",
            "Epoch 3\n"
          ]
        },
        {
          "output_type": "stream",
          "name": "stderr",
          "text": [
            "Training: 100%|██████████| 252/252 [01:43<00:00,  2.44it/s]\n"
          ]
        },
        {
          "output_type": "stream",
          "name": "stdout",
          "text": [
            "Train Loss: 0.2389 | Val Loss: 0.4165\n",
            "⚠️ No improvement.\n",
            "\n",
            "Epoch 4\n"
          ]
        },
        {
          "output_type": "stream",
          "name": "stderr",
          "text": [
            "Training: 100%|██████████| 252/252 [01:43<00:00,  2.43it/s]\n"
          ]
        },
        {
          "output_type": "stream",
          "name": "stdout",
          "text": [
            "Train Loss: 0.1478 | Val Loss: 0.5091\n",
            "⚠️ No improvement.\n",
            "\n",
            "Epoch 5\n"
          ]
        },
        {
          "output_type": "stream",
          "name": "stderr",
          "text": [
            "Training: 100%|██████████| 252/252 [01:44<00:00,  2.42it/s]\n"
          ]
        },
        {
          "output_type": "stream",
          "name": "stdout",
          "text": [
            "Train Loss: 0.1066 | Val Loss: 0.4451\n",
            "⚠️ No improvement.\n",
            "\n",
            "Epoch 6\n"
          ]
        },
        {
          "output_type": "stream",
          "name": "stderr",
          "text": [
            "Training: 100%|██████████| 252/252 [01:43<00:00,  2.42it/s]\n"
          ]
        },
        {
          "output_type": "stream",
          "name": "stdout",
          "text": [
            "Train Loss: 0.0654 | Val Loss: 0.5655\n",
            "⚠️ No improvement.\n",
            "\n",
            "Epoch 7\n"
          ]
        },
        {
          "output_type": "stream",
          "name": "stderr",
          "text": [
            "Training: 100%|██████████| 252/252 [01:44<00:00,  2.42it/s]\n"
          ]
        },
        {
          "output_type": "stream",
          "name": "stdout",
          "text": [
            "Train Loss: 0.0371 | Val Loss: 0.6296\n",
            "⚠️ No improvement.\n",
            "\n",
            "Epoch 8\n"
          ]
        },
        {
          "output_type": "stream",
          "name": "stderr",
          "text": [
            "Training: 100%|██████████| 252/252 [01:44<00:00,  2.42it/s]\n"
          ]
        },
        {
          "output_type": "stream",
          "name": "stdout",
          "text": [
            "Train Loss: 0.0412 | Val Loss: 0.8043\n",
            "⚠️ No improvement.\n",
            "\n",
            "Epoch 9\n"
          ]
        },
        {
          "output_type": "stream",
          "name": "stderr",
          "text": [
            "Training: 100%|██████████| 252/252 [01:44<00:00,  2.42it/s]\n"
          ]
        },
        {
          "output_type": "stream",
          "name": "stdout",
          "text": [
            "Train Loss: 0.0272 | Val Loss: 0.7989\n",
            "⚠️ No improvement.\n",
            "\n",
            "Epoch 10\n"
          ]
        },
        {
          "output_type": "stream",
          "name": "stderr",
          "text": [
            "Training: 100%|██████████| 252/252 [01:44<00:00,  2.42it/s]\n"
          ]
        },
        {
          "output_type": "stream",
          "name": "stdout",
          "text": [
            "Train Loss: 0.0391 | Val Loss: 0.6003\n",
            "⚠️ No improvement.\n",
            "\n",
            "Epoch 11\n"
          ]
        },
        {
          "output_type": "stream",
          "name": "stderr",
          "text": [
            "Training: 100%|██████████| 252/252 [01:43<00:00,  2.42it/s]\n"
          ]
        },
        {
          "output_type": "stream",
          "name": "stdout",
          "text": [
            "Train Loss: 0.0238 | Val Loss: 0.8241\n",
            "⚠️ No improvement.\n",
            "\n",
            "Epoch 12\n"
          ]
        },
        {
          "output_type": "stream",
          "name": "stderr",
          "text": [
            "Training: 100%|██████████| 252/252 [01:44<00:00,  2.42it/s]\n"
          ]
        },
        {
          "output_type": "stream",
          "name": "stdout",
          "text": [
            "Train Loss: 0.0274 | Val Loss: 0.7958\n",
            "⚠️ No improvement.\n",
            "⏹️ Early stopping triggered.\n",
            "\n",
            "=== Idiom Model Training Complete ===\n",
            "\n",
            "=== Idiom Model Validation Results ===\n",
            "              precision    recall  f1-score   support\n",
            "\n",
            "   Non-Idiom       0.77      0.67      0.72       295\n",
            "       Idiom       0.86      0.91      0.89       666\n",
            "\n",
            "    accuracy                           0.84       961\n",
            "   macro avg       0.82      0.79      0.80       961\n",
            "weighted avg       0.84      0.84      0.84       961\n",
            "\n",
            "\n",
            "=== Training Metaphor Model ===\n",
            "\n",
            "Epoch 1\n"
          ]
        },
        {
          "output_type": "stream",
          "name": "stderr",
          "text": [
            "Training: 100%|██████████| 10/10 [00:04<00:00,  2.42it/s]\n"
          ]
        },
        {
          "output_type": "stream",
          "name": "stdout",
          "text": [
            "Train Loss: 0.6953 | Val Loss: 0.6775\n",
            "✅ Validation loss improved, saving model.\n",
            "\n",
            "Epoch 2\n"
          ]
        },
        {
          "output_type": "stream",
          "name": "stderr",
          "text": [
            "Training: 100%|██████████| 10/10 [00:04<00:00,  2.43it/s]\n"
          ]
        },
        {
          "output_type": "stream",
          "name": "stdout",
          "text": [
            "Train Loss: 0.6978 | Val Loss: 0.6746\n",
            "✅ Validation loss improved, saving model.\n",
            "\n",
            "Epoch 3\n"
          ]
        },
        {
          "output_type": "stream",
          "name": "stderr",
          "text": [
            "Training: 100%|██████████| 10/10 [00:04<00:00,  2.44it/s]\n"
          ]
        },
        {
          "output_type": "stream",
          "name": "stdout",
          "text": [
            "Train Loss: 0.6829 | Val Loss: 0.6786\n",
            "⚠️ No improvement.\n",
            "\n",
            "Epoch 4\n"
          ]
        },
        {
          "output_type": "stream",
          "name": "stderr",
          "text": [
            "Training: 100%|██████████| 10/10 [00:04<00:00,  2.42it/s]\n"
          ]
        },
        {
          "output_type": "stream",
          "name": "stdout",
          "text": [
            "Train Loss: 0.6810 | Val Loss: 0.6794\n",
            "⚠️ No improvement.\n",
            "\n",
            "Epoch 5\n"
          ]
        },
        {
          "output_type": "stream",
          "name": "stderr",
          "text": [
            "Training: 100%|██████████| 10/10 [00:04<00:00,  2.43it/s]\n"
          ]
        },
        {
          "output_type": "stream",
          "name": "stdout",
          "text": [
            "Train Loss: 0.6554 | Val Loss: 0.6574\n",
            "✅ Validation loss improved, saving model.\n",
            "\n",
            "Epoch 6\n"
          ]
        },
        {
          "output_type": "stream",
          "name": "stderr",
          "text": [
            "Training: 100%|██████████| 10/10 [00:04<00:00,  2.43it/s]\n"
          ]
        },
        {
          "output_type": "stream",
          "name": "stdout",
          "text": [
            "Train Loss: 0.5981 | Val Loss: 0.6183\n",
            "✅ Validation loss improved, saving model.\n",
            "\n",
            "Epoch 7\n"
          ]
        },
        {
          "output_type": "stream",
          "name": "stderr",
          "text": [
            "Training: 100%|██████████| 10/10 [00:04<00:00,  2.42it/s]\n"
          ]
        },
        {
          "output_type": "stream",
          "name": "stdout",
          "text": [
            "Train Loss: 0.5616 | Val Loss: 0.5376\n",
            "✅ Validation loss improved, saving model.\n",
            "\n",
            "Epoch 8\n"
          ]
        },
        {
          "output_type": "stream",
          "name": "stderr",
          "text": [
            "Training: 100%|██████████| 10/10 [00:04<00:00,  2.45it/s]\n"
          ]
        },
        {
          "output_type": "stream",
          "name": "stdout",
          "text": [
            "Train Loss: 0.3120 | Val Loss: 0.4650\n",
            "✅ Validation loss improved, saving model.\n",
            "\n",
            "Epoch 9\n"
          ]
        },
        {
          "output_type": "stream",
          "name": "stderr",
          "text": [
            "Training: 100%|██████████| 10/10 [00:04<00:00,  2.43it/s]\n"
          ]
        },
        {
          "output_type": "stream",
          "name": "stdout",
          "text": [
            "Train Loss: 0.1538 | Val Loss: 0.3834\n",
            "✅ Validation loss improved, saving model.\n",
            "\n",
            "Epoch 10\n"
          ]
        },
        {
          "output_type": "stream",
          "name": "stderr",
          "text": [
            "Training: 100%|██████████| 10/10 [00:04<00:00,  2.44it/s]\n"
          ]
        },
        {
          "output_type": "stream",
          "name": "stdout",
          "text": [
            "Train Loss: 0.0813 | Val Loss: 0.4252\n",
            "⚠️ No improvement.\n",
            "\n",
            "Epoch 11\n"
          ]
        },
        {
          "output_type": "stream",
          "name": "stderr",
          "text": [
            "Training: 100%|██████████| 10/10 [00:04<00:00,  2.44it/s]\n"
          ]
        },
        {
          "output_type": "stream",
          "name": "stdout",
          "text": [
            "Train Loss: 0.0298 | Val Loss: 0.2785\n",
            "✅ Validation loss improved, saving model.\n",
            "\n",
            "Epoch 12\n"
          ]
        },
        {
          "output_type": "stream",
          "name": "stderr",
          "text": [
            "Training: 100%|██████████| 10/10 [00:04<00:00,  2.44it/s]\n"
          ]
        },
        {
          "output_type": "stream",
          "name": "stdout",
          "text": [
            "Train Loss: 0.0121 | Val Loss: 0.2626\n",
            "✅ Validation loss improved, saving model.\n",
            "\n",
            "Epoch 13\n"
          ]
        },
        {
          "output_type": "stream",
          "name": "stderr",
          "text": [
            "Training: 100%|██████████| 10/10 [00:04<00:00,  2.44it/s]\n"
          ]
        },
        {
          "output_type": "stream",
          "name": "stdout",
          "text": [
            "Train Loss: 0.0087 | Val Loss: 0.3517\n",
            "⚠️ No improvement.\n",
            "\n",
            "Epoch 14\n"
          ]
        },
        {
          "output_type": "stream",
          "name": "stderr",
          "text": [
            "Training: 100%|██████████| 10/10 [00:04<00:00,  2.45it/s]\n"
          ]
        },
        {
          "output_type": "stream",
          "name": "stdout",
          "text": [
            "Train Loss: 0.0041 | Val Loss: 0.3653\n",
            "⚠️ No improvement.\n",
            "\n",
            "Epoch 15\n"
          ]
        },
        {
          "output_type": "stream",
          "name": "stderr",
          "text": [
            "Training: 100%|██████████| 10/10 [00:04<00:00,  2.43it/s]\n"
          ]
        },
        {
          "output_type": "stream",
          "name": "stdout",
          "text": [
            "Train Loss: 0.0023 | Val Loss: 0.3602\n",
            "⚠️ No improvement.\n",
            "\n",
            "Epoch 16\n"
          ]
        },
        {
          "output_type": "stream",
          "name": "stderr",
          "text": [
            "Training: 100%|██████████| 10/10 [00:04<00:00,  2.44it/s]\n"
          ]
        },
        {
          "output_type": "stream",
          "name": "stdout",
          "text": [
            "Train Loss: 0.0053 | Val Loss: 0.5114\n",
            "⚠️ No improvement.\n",
            "\n",
            "Epoch 17\n"
          ]
        },
        {
          "output_type": "stream",
          "name": "stderr",
          "text": [
            "Training: 100%|██████████| 10/10 [00:04<00:00,  2.43it/s]\n"
          ]
        },
        {
          "output_type": "stream",
          "name": "stdout",
          "text": [
            "Train Loss: 0.0037 | Val Loss: 0.6197\n",
            "⚠️ No improvement.\n",
            "\n",
            "Epoch 18\n"
          ]
        },
        {
          "output_type": "stream",
          "name": "stderr",
          "text": [
            "Training: 100%|██████████| 10/10 [00:04<00:00,  2.43it/s]\n"
          ]
        },
        {
          "output_type": "stream",
          "name": "stdout",
          "text": [
            "Train Loss: 0.0193 | Val Loss: 0.6336\n",
            "⚠️ No improvement.\n",
            "\n",
            "Epoch 19\n"
          ]
        },
        {
          "output_type": "stream",
          "name": "stderr",
          "text": [
            "Training: 100%|██████████| 10/10 [00:04<00:00,  2.44it/s]\n"
          ]
        },
        {
          "output_type": "stream",
          "name": "stdout",
          "text": [
            "Train Loss: 0.0328 | Val Loss: 0.5667\n",
            "⚠️ No improvement.\n",
            "\n",
            "Epoch 20\n"
          ]
        },
        {
          "output_type": "stream",
          "name": "stderr",
          "text": [
            "Training: 100%|██████████| 10/10 [00:04<00:00,  2.44it/s]\n"
          ]
        },
        {
          "output_type": "stream",
          "name": "stdout",
          "text": [
            "Train Loss: 0.0326 | Val Loss: 0.5487\n",
            "⚠️ No improvement.\n",
            "\n",
            "=== Metaphor Model Training Complete ===\n",
            "\n",
            "=== Metaphor Model Validation Results ===\n",
            "              precision    recall  f1-score   support\n",
            "\n",
            "Non-Metaphor       0.94      0.85      0.89        20\n",
            "    Metaphor       0.86      0.95      0.90        20\n",
            "\n",
            "    accuracy                           0.90        40\n",
            "   macro avg       0.90      0.90      0.90        40\n",
            "weighted avg       0.90      0.90      0.90        40\n",
            "\n"
          ]
        },
        {
          "output_type": "execute_result",
          "data": {
            "text/plain": [
              "([np.int64(0),\n",
              "  np.int64(1),\n",
              "  np.int64(1),\n",
              "  np.int64(1),\n",
              "  np.int64(0),\n",
              "  np.int64(1),\n",
              "  np.int64(0),\n",
              "  np.int64(1),\n",
              "  np.int64(1),\n",
              "  np.int64(0),\n",
              "  np.int64(1),\n",
              "  np.int64(1),\n",
              "  np.int64(1),\n",
              "  np.int64(1),\n",
              "  np.int64(0),\n",
              "  np.int64(0),\n",
              "  np.int64(0),\n",
              "  np.int64(0),\n",
              "  np.int64(0),\n",
              "  np.int64(1),\n",
              "  np.int64(1),\n",
              "  np.int64(1),\n",
              "  np.int64(1),\n",
              "  np.int64(1),\n",
              "  np.int64(1),\n",
              "  np.int64(1),\n",
              "  np.int64(1),\n",
              "  np.int64(0),\n",
              "  np.int64(1),\n",
              "  np.int64(0),\n",
              "  np.int64(1),\n",
              "  np.int64(0),\n",
              "  np.int64(1),\n",
              "  np.int64(0),\n",
              "  np.int64(0),\n",
              "  np.int64(0),\n",
              "  np.int64(0),\n",
              "  np.int64(0),\n",
              "  np.int64(1),\n",
              "  np.int64(0)],\n",
              " [np.int64(0),\n",
              "  np.int64(1),\n",
              "  np.int64(1),\n",
              "  np.int64(1),\n",
              "  np.int64(0),\n",
              "  np.int64(1),\n",
              "  np.int64(0),\n",
              "  np.int64(1),\n",
              "  np.int64(1),\n",
              "  np.int64(0),\n",
              "  np.int64(1),\n",
              "  np.int64(1),\n",
              "  np.int64(0),\n",
              "  np.int64(1),\n",
              "  np.int64(0),\n",
              "  np.int64(0),\n",
              "  np.int64(1),\n",
              "  np.int64(0),\n",
              "  np.int64(0),\n",
              "  np.int64(1),\n",
              "  np.int64(0),\n",
              "  np.int64(1),\n",
              "  np.int64(1),\n",
              "  np.int64(1),\n",
              "  np.int64(1),\n",
              "  np.int64(1),\n",
              "  np.int64(1),\n",
              "  np.int64(0),\n",
              "  np.int64(1),\n",
              "  np.int64(0),\n",
              "  np.int64(1),\n",
              "  np.int64(0),\n",
              "  np.int64(0),\n",
              "  np.int64(0),\n",
              "  np.int64(0),\n",
              "  np.int64(0),\n",
              "  np.int64(0),\n",
              "  np.int64(0),\n",
              "  np.int64(1),\n",
              "  np.int64(0)])"
            ]
          },
          "metadata": {},
          "execution_count": 10
        }
      ]
    },
    {
      "cell_type": "code",
      "source": [
        "# ===============================\n",
        "# 7. ATTENTION HEAD IMPORTANCE ANALYSIS\n",
        "# ===============================\n",
        "def analyze_attention_importance(model, val_loader, model_name=\"Model\"):\n",
        "    \"\"\"\n",
        "    Analyze and visualize attention head importance for a given model\n",
        "\n",
        "    Args:\n",
        "        model: The model to analyze\n",
        "        val_loader: Validation data loader\n",
        "        model_name: Name of the model for display purposes\n",
        "    \"\"\"\n",
        "    head_grads = {}\n",
        "\n",
        "    def save_attention_hook(layer_id, head_id):\n",
        "        def hook_fn(grad):\n",
        "            key = (layer_id, head_id)\n",
        "            grad_norm = grad.detach().pow(2).sum().item()\n",
        "            head_grads[key] = head_grads.get(key, 0) + grad_norm\n",
        "        return hook_fn\n",
        "\n",
        "    def register_attention_hooks(model):\n",
        "        hooks = []\n",
        "        for layer_id, layer in enumerate(model.bert.encoder.layer):\n",
        "            def backward_hook_fn(module, grad_input, grad_output, lid=layer_id):\n",
        "                batch_size, seq_len, hidden = grad_output[0].shape\n",
        "                head_dim = hidden // layer.attention.self.num_attention_heads\n",
        "                reshaped = grad_output[0].view(batch_size, seq_len, -1, head_dim).mean(1)\n",
        "                for head_id in range(reshaped.shape[1]):\n",
        "                    g = reshaped[:, head_id, :].reshape(-1)\n",
        "                    save_attention_hook(lid, head_id)(g)\n",
        "            hooks.append(layer.output.register_full_backward_hook(backward_hook_fn))\n",
        "        return hooks\n",
        "\n",
        "    print(f\"\\n=== Analyzing Attention Head Importance for {model_name} ===\")\n",
        "\n",
        "    # Register hooks and compute gradients\n",
        "    model.train()  # required for cuDNN + LSTM backprop\n",
        "    hooks = register_attention_hooks(model)\n",
        "\n",
        "    with torch.set_grad_enabled(True):  # Ensures autograd is fully on\n",
        "        for batch in val_loader:\n",
        "            input_ids = batch[\"input_ids\"].to(device)\n",
        "            attention_mask = batch[\"attention_mask\"].to(device)\n",
        "            labels = batch[\"label\"].to(device)\n",
        "\n",
        "            outputs = model(input_ids, attention_mask)\n",
        "            loss = loss_fn(outputs, labels)\n",
        "\n",
        "            model.zero_grad()\n",
        "            loss.backward()\n",
        "            break  # only one batch needed\n",
        "\n",
        "    # Remove hooks\n",
        "    for h in hooks:\n",
        "        h.remove()\n",
        "\n",
        "    model.eval()\n",
        "\n",
        "    # Normalize gradients and organize by layer\n",
        "    layer_head_importance = {}\n",
        "    for (layer, head), grad_val in head_grads.items():\n",
        "        layer_head_importance.setdefault(layer, []).append(grad_val)\n",
        "\n",
        "    # Print normalized importance scores\n",
        "    print(f\"\\n{model_name} Attention Head Importance (normalized):\")\n",
        "    for layer in sorted(layer_head_importance):\n",
        "        scores = np.array(layer_head_importance[layer])\n",
        "        norm_scores = (scores - scores.min()) / (scores.max() - scores.min() + 1e-9)\n",
        "        print(f\"Layer {layer}: {np.round(norm_scores, 3).tolist()}\")\n",
        "\n",
        "    # Visualize as heatmap\n",
        "    num_layers = max(layer_head_importance.keys()) + 1\n",
        "    num_heads = max(len(v) for v in layer_head_importance.values())\n",
        "    importance_matrix = np.zeros((num_layers, num_heads))\n",
        "\n",
        "    for layer, scores in layer_head_importance.items():\n",
        "        scores = np.array(scores)\n",
        "        scores = (scores - scores.min()) / (scores.max() - scores.min() + 1e-9)  # normalize again\n",
        "        importance_matrix[layer, :len(scores)] = scores\n",
        "\n",
        "    plt.figure(figsize=(12, 6))\n",
        "    sns.heatmap(\n",
        "        importance_matrix,\n",
        "        annot=True,\n",
        "        cmap=\"YlGnBu\",\n",
        "        xticklabels=[f\"H{i}\" for i in range(num_heads)],\n",
        "        yticklabels=[f\"L{i}\" for i in range(num_layers)],\n",
        "        cbar_kws={'label': 'Normalized Importance'}\n",
        "    )\n",
        "    plt.title(f\"Attention Head Importance Heatmap (Layer vs. Head)\")\n",
        "    plt.xlabel(\"Head\")\n",
        "    plt.ylabel(\"Layer\")\n",
        "    plt.tight_layout()\n",
        "    plt.savefig(f\"{model_name.lower().replace(' ', '_')}_attention_importance.png\")\n",
        "    plt.show()\n",
        "\n",
        "    return layer_head_importance\n"
      ],
      "metadata": {
        "id": "9Ll_Gc4E9X2e"
      },
      "execution_count": null,
      "outputs": []
    },
    {
      "cell_type": "code",
      "source": [
        "# ===============================\n",
        "# 8. ANALYZE MODELS SEPARATELY\n",
        "# ===============================\n",
        "# Import visualization libraries\n",
        "import matplotlib.pyplot as plt\n",
        "import seaborn as sns\n",
        "import numpy as np\n",
        "\n",
        "def flatten_and_normalize(layer_head_importance):\n",
        "    flat = {}\n",
        "    for layer, scores in layer_head_importance.items():\n",
        "        scores = np.array(scores)\n",
        "        norm_scores = (scores - scores.min()) / (scores.max() - scores.min() + 1e-9)\n",
        "        for head, score in enumerate(norm_scores):\n",
        "            flat[(layer, head)] = float(score)\n",
        "    return flat\n",
        "\n",
        "\n",
        "\n",
        "# Analyze attention head importance for idiom model\n",
        "print(\"\\n=== IDIOM MODEL ANALYSIS ===\")\n",
        "idiom_importance_nested = analyze_attention_importance(idiom_model, idiom_val_loader, \"Idiom\")\n",
        "idiom_importance = flatten_and_normalize(idiom_importance_nested)\n",
        "\n",
        "\n",
        "\n",
        "# Analyze attention head importance for metaphor model\n",
        "print(\"\\n=== METAPHOR MODEL ANALYSIS ===\")\n",
        "metaphor_importance_nested = analyze_attention_importance(metaphor_model, metaphor_val_loader, \"Metaphor\")\n",
        "metaphor_importance = flatten_and_normalize(metaphor_importance_nested)\n"
      ],
      "metadata": {
        "id": "QtG8uCDz-ENv",
        "colab": {
          "base_uri": "https://localhost:8080/",
          "height": 1000
        },
        "outputId": "ece6f286-fef8-4b07-d72b-a959ae10c3d0"
      },
      "execution_count": null,
      "outputs": [
        {
          "output_type": "stream",
          "name": "stdout",
          "text": [
            "\n",
            "=== IDIOM MODEL ANALYSIS ===\n",
            "\n",
            "=== Analyzing Attention Head Importance for Idiom ===\n",
            "\n",
            "Idiom Attention Head Importance (normalized):\n",
            "Layer 0: [0.088, 0.413, 0.13, 0.218, 0.027, 0.359, 0.354, 0.396, 0.0, 1.0, 0.727, 0.354]\n",
            "Layer 1: [0.263, 1.0, 0.547, 0.268, 0.396, 0.548, 0.0, 0.757, 0.674, 0.579, 0.491, 0.753]\n",
            "Layer 2: [0.427, 0.439, 0.97, 0.55, 0.0, 0.691, 0.011, 0.616, 0.02, 0.468, 1.0, 0.26]\n",
            "Layer 3: [0.273, 0.106, 1.0, 0.886, 0.373, 0.723, 0.512, 0.29, 0.307, 0.196, 0.616, 0.0]\n",
            "Layer 4: [0.173, 0.892, 0.918, 0.907, 0.805, 0.434, 0.395, 0.11, 0.0, 0.849, 1.0, 0.111]\n",
            "Layer 5: [0.515, 0.0, 0.706, 1.0, 0.43, 0.512, 0.177, 0.475, 0.445, 0.689, 0.729, 0.048]\n",
            "Layer 6: [0.249, 0.094, 0.451, 0.999, 0.318, 0.353, 0.185, 0.059, 0.348, 0.587, 0.508, 0.0]\n",
            "Layer 7: [0.351, 0.369, 0.693, 0.998, 0.344, 0.0, 0.628, 0.342, 0.272, 0.739, 0.642, 0.629]\n",
            "Layer 8: [0.057, 0.595, 0.0, 0.634, 0.82, 0.843, 0.997, 0.24, 0.968, 0.409, 0.192, 0.564]\n",
            "Layer 9: [0.329, 0.201, 0.0, 0.996, 0.301, 0.344, 0.654, 0.196, 0.277, 0.777, 0.482, 0.325]\n",
            "Layer 10: [0.623, 0.0, 0.129, 0.108, 0.033, 0.384, 0.184, 0.039, 0.298, 0.989, 0.381, 0.362]\n",
            "Layer 11: [0.458, 0.62, 0.597, 0.195, 0.418, 0.322, 0.0, 0.045, 0.879, 0.738, 0.425, 0.772]\n"
          ]
        },
        {
          "output_type": "display_data",
          "data": {
            "text/plain": [
              "<Figure size 1200x600 with 2 Axes>"
            ],
            "image/png": "[encoded data removed]"
          },
          "metadata": {}
        },
        {
          "output_type": "stream",
          "name": "stdout",
          "text": [
            "\n",
            "=== METAPHOR MODEL ANALYSIS ===\n",
            "\n",
            "=== Analyzing Attention Head Importance for Metaphor ===\n",
            "\n",
            "Metaphor Attention Head Importance (normalized):\n",
            "Layer 0: [0.499, 1.0, 0.373, 0.307, 0.007, 0.0, 0.3, 0.842, 0.095, 0.673, 0.392, 0.348]\n",
            "Layer 1: [1.0, 0.0, 0.42, 0.074, 0.254, 0.504, 0.337, 0.66, 0.007, 0.436, 0.414, 0.116]\n",
            "Layer 2: [0.437, 0.557, 0.742, 0.426, 0.473, 0.478, 0.0, 1.0, 0.865, 0.627, 0.278, 0.211]\n",
            "Layer 3: [0.771, 0.391, 1.0, 0.323, 0.173, 0.146, 0.755, 0.545, 0.0, 0.504, 0.844, 0.416]\n",
            "Layer 4: [0.122, 0.412, 0.318, 0.71, 0.526, 0.151, 0.395, 0.425, 0.838, 0.17, 1.0, 0.0]\n",
            "Layer 5: [0.752, 0.996, 0.315, 1.0, 0.596, 0.47, 0.313, 0.984, 0.884, 0.733, 0.548, 0.0]\n",
            "Layer 6: [0.15, 0.0, 0.406, 0.873, 1.0, 0.984, 0.076, 0.431, 0.055, 0.563, 0.813, 0.155]\n",
            "Layer 7: [0.357, 0.564, 0.234, 0.706, 1.0, 0.439, 0.0, 0.454, 0.842, 0.671, 0.433, 0.47]\n",
            "Layer 8: [0.543, 0.368, 0.538, 0.473, 1.0, 0.623, 0.203, 0.764, 0.939, 0.636, 0.0, 0.868]\n",
            "Layer 9: [0.822, 0.784, 0.645, 1.0, 0.17, 0.0, 0.299, 0.466, 0.857, 0.643, 0.155, 0.521]\n",
            "Layer 10: [0.409, 0.195, 0.0, 0.28, 0.497, 0.069, 0.721, 0.997, 0.278, 0.018, 0.181, 0.572]\n",
            "Layer 11: [0.173, 0.543, 0.0, 0.889, 0.898, 0.194, 0.48, 0.082, 0.352, 0.133, 0.122, 0.168]\n"
          ]
        },
        {
          "output_type": "display_data",
          "data": {
            "text/plain": [
              "<Figure size 1200x600 with 2 Axes>"
            ],
            "image/png": "[encoded data removed]"
          },
          "metadata": {}
        }
      ]
    },
    {
      "cell_type": "code",
      "source": [
        "print(idiom_importance)"
      ],
      "metadata": {
        "colab": {
          "base_uri": "https://localhost:8080/"
        },
        "id": "bMzfM_7bfiIY",
        "outputId": "0c0dc13a-c1ee-47a6-cbc2-a7e7381dcaa8"
      },
      "execution_count": null,
      "outputs": [
        {
          "output_type": "stream",
          "name": "stdout",
          "text": [
            "{(11, 0): 0.4582322429222036, (11, 1): 0.6195224070962695, (11, 2): 0.5973962139815633, (11, 3): 0.1952091281745492, (11, 4): 0.4176864642405202, (11, 5): 0.3217510059145549, (11, 6): 0.0, (11, 7): 0.045079551777596295, (11, 8): 0.8785781468521913, (11, 9): 0.7381946727916759, (11, 10): 0.42475479336165056, (11, 11): 0.7715314934246108, (10, 0): 0.6231703549207814, (10, 1): 0.0, (10, 2): 0.12908794532131698, (10, 3): 0.1079233280259109, (10, 4): 0.03349701396442485, (10, 5): 0.38378812611561125, (10, 6): 0.18363517446895022, (10, 7): 0.03852557202083913, (10, 8): 0.2975816415544144, (10, 9): 0.9893724977338315, (10, 10): 0.38148558538615146, (10, 11): 0.36158097709677206, (9, 0): 0.32943098321798914, (9, 1): 0.2007019084665673, (9, 2): 0.0, (9, 3): 0.9955591348738997, (9, 4): 0.301432144719443, (9, 5): 0.34408540547580563, (9, 6): 0.6535696885386418, (9, 7): 0.1959611987641119, (9, 8): 0.2771474932393782, (9, 9): 0.7771675382569534, (9, 10): 0.4819393366686283, (9, 11): 0.32549187754429554, (8, 0): 0.057139148993868995, (8, 1): 0.5949835430332464, (8, 2): 0.0, (8, 3): 0.6344768899548981, (8, 4): 0.8200847263434151, (8, 5): 0.8426437328197437, (8, 6): 0.9968216949457117, (8, 7): 0.24035804249451828, (8, 8): 0.968059530785428, (8, 9): 0.4091253039492303, (8, 10): 0.19201984365111355, (8, 11): 0.5638051554605493, (7, 0): 0.3509618998582649, (7, 1): 0.3685190121744342, (7, 2): 0.6932626036574393, (7, 3): 0.998174517510439, (7, 4): 0.3436148048545767, (7, 5): 0.0, (7, 6): 0.6283505357471908, (7, 7): 0.34176547533709556, (7, 8): 0.27222354633320034, (7, 9): 0.7394752957946431, (7, 10): 0.6421075052292677, (7, 11): 0.6286570624778965, (6, 0): 0.24934647518610992, (6, 1): 0.09447908431856995, (6, 2): 0.4512284532054454, (6, 3): 0.9993657932142024, (6, 4): 0.3176991984137008, (6, 5): 0.35307683418768265, (6, 6): 0.18490032638665752, (6, 7): 0.05918047120106521, (6, 8): 0.34800438717265175, (6, 9): 0.5870518164677985, (6, 10): 0.508136157821228, (6, 11): 0.0, (5, 0): 0.5150583311215821, (5, 1): 0.0, (5, 2): 0.7057046386561623, (5, 3): 0.9997013629400613, (5, 4): 0.42959131835115744, (5, 5): 0.5119527558306275, (5, 6): 0.17714395388305143, (5, 7): 0.474908028357014, (5, 8): 0.44523639401338594, (5, 9): 0.6894948882493216, (5, 10): 0.729074269266331, (5, 11): 0.04756142112988088, (4, 0): 0.1733404623674427, (4, 1): 0.8917942693845753, (4, 2): 0.9175679625266411, (4, 3): 0.90732266942814, (4, 4): 0.8050297075333827, (4, 5): 0.43413783438087244, (4, 6): 0.3953205681942146, (4, 7): 0.1095226214675358, (4, 8): 0.0, (4, 9): 0.8489632332970143, (4, 10): 0.9995678430594144, (4, 11): 0.1110786844363642, (3, 0): 0.27348412286635965, (3, 1): 0.10601437756217616, (3, 2): 0.9996831926398627, (3, 3): 0.8864595429298816, (3, 4): 0.37338140254088764, (3, 5): 0.7225933531947923, (3, 6): 0.5118465089749218, (3, 7): 0.29019448989387525, (3, 8): 0.30730766911389823, (3, 9): 0.19570232747202707, (3, 10): 0.615889469497659, (3, 11): 0.0, (2, 0): 0.42663932234576113, (2, 1): 0.43894195761069504, (2, 2): 0.9699753735924982, (2, 3): 0.5497138614522621, (2, 4): 0.0, (2, 5): 0.6914058953713804, (2, 6): 0.011200512020819625, (2, 7): 0.6155252048582026, (2, 8): 0.019726919035089687, (2, 9): 0.4677152755631, (2, 10): 0.9998216108755859, (2, 11): 0.2599435467223977, (1, 0): 0.2628531639382906, (1, 1): 0.9998689158037345, (1, 2): 0.5473295669988176, (1, 3): 0.2679166920021573, (1, 4): 0.3958059456274771, (1, 5): 0.5476115232022233, (1, 6): 0.0, (1, 7): 0.757472419549911, (1, 8): 0.6744646324876705, (1, 9): 0.5789712524807946, (1, 10): 0.49125700239874676, (1, 11): 0.7533804183788784, (0, 0): 0.08796001567279013, (0, 1): 0.413290056232897, (0, 2): 0.1296283812804301, (0, 3): 0.2177903327869719, (0, 4): 0.027467236024323848, (0, 5): 0.3593933188024377, (0, 6): 0.3536546320983731, (0, 7): 0.39583148291376447, (0, 8): 0.0, (0, 9): 0.9999128607546017, (0, 10): 0.7266667317767458, (0, 11): 0.3543658456666962}\n"
          ]
        }
      ]
    },
    {
      "cell_type": "code",
      "source": [
        "# ===============================\n",
        "# 9. ATTENTION HEAD PRUNING & EVALUATION (BERT-Only Version)\n",
        "# ===============================\n",
        "\n",
        "def create_importance_matrix(layer_head_importance, num_layers=12, num_heads=12):\n",
        "    matrix = []\n",
        "    for layer in range(num_layers):\n",
        "        heads = []\n",
        "        for head in range(num_heads):\n",
        "            value = layer_head_importance.get((layer, head), 0.0)\n",
        "            heads.append(value)\n",
        "        matrix.append(heads)\n",
        "    return matrix\n",
        "\n",
        "def prune_and_evaluate_model(model, layer_head_importance, test_loader, model_name=\"Model\", threshold=0.0001):\n",
        "    print(f\"\\nRaw (layer, head) importance scores:\")\n",
        "    # for (layer, head), score in sorted(layer_head_importance.items()):\n",
        "    #     print(f\"  Layer {layer:02d}, Head {head:02d} = {score}\")\n",
        "    # Build importance matrix from dictionary\n",
        "    importance_matrix = create_importance_matrix(layer_head_importance)\n",
        "    importance_matrix_tensor = torch.tensor(importance_matrix, dtype=torch.float32)\n",
        "\n",
        "    # Count heads below threshold\n",
        "    print(f\"\\nNumber of heads below threshold: {(importance_matrix_tensor < threshold).sum().item()}\")\n",
        "\n",
        "    # Initialize head mask\n",
        "    head_mask = torch.zeros_like(importance_matrix_tensor)\n",
        "\n",
        "    for layer in range(importance_matrix_tensor.shape[0]):\n",
        "        layer_importance = importance_matrix_tensor[layer]\n",
        "        mask = (layer_importance > threshold).float()\n",
        "\n",
        "        # Ensure at least one head is kept per layer\n",
        "        if mask.sum() == 0:\n",
        "            max_head = torch.argmax(layer_importance)\n",
        "            mask[max_head] = 1.0\n",
        "\n",
        "        head_mask[layer] = mask\n",
        "\n",
        "    head_mask = head_mask.to(device)\n",
        "\n",
        "    # Count pruning stats\n",
        "    pruned_heads_count = torch.sum(head_mask == 0.0).item()\n",
        "    total_heads = head_mask.numel()\n",
        "    pruning_percentage = (pruned_heads_count / total_heads) * 100\n",
        "\n",
        "    print(f\"{model_name} Pruning: {pruned_heads_count} of {total_heads} heads pruned ({pruning_percentage:.2f}%)\")\n",
        "\n",
        "    # Evaluate original and pruned models\n",
        "    print(f\"\\n{model_name} Original Model (No Pruning)\")\n",
        "    evaluate(model, test_loader, task_type=model_name.lower())\n",
        "\n",
        "    print(f\"\\n{model_name} Pruned Model (Threshold-Based Pruning @ {threshold})\")\n",
        "    pruned_model = PrunedBERT_Only(head_mask=head_mask, num_classes=2).to(device)\n",
        "    evaluate(pruned_model, test_loader, task_type=model_name.lower())\n",
        "\n",
        "    return pruned_model, pruning_percentage\n",
        "\n",
        "from transformers import AutoModel\n",
        "\n",
        "class PrunedBERT_Only(nn.Module):\n",
        "    def __init__(self, head_mask, num_classes=2, model_name=\"ai4bharat/indic-bert-v2\"):\n",
        "        super().__init__()\n",
        "        self.bert = AutoModel.from_pretrained(\"ai4bharat/IndicBERTv2-mlm-only\")\n",
        "        self.head_mask = head_mask\n",
        "        self.hidden_size = self.bert.config.hidden_size  # usually 768, but may differ\n",
        "        self.dropout = nn.Dropout(0.1)\n",
        "        self.fc = nn.Linear(self.hidden_size, num_classes)\n",
        "\n",
        "    def forward(self, input_ids, attention_mask):\n",
        "        outputs = self.bert(\n",
        "            input_ids=input_ids,\n",
        "            attention_mask=attention_mask,\n",
        "            head_mask=self.head_mask\n",
        "        )\n",
        "        pooled = outputs.pooler_output  # or use outputs.last_hidden_state[:, 0] if needed\n",
        "        return self.fc(self.dropout(pooled))\n",
        "\n",
        "\n",
        "\n",
        "# Prune and evaluate idiom model\n",
        "print(\"\\n=== IDIOM MODEL PRUNING ===\")\n",
        "idiom_pruned_model, idiom_pruning_percentage = prune_and_evaluate_model(\n",
        "    idiom_model,\n",
        "    idiom_importance,\n",
        "    idiom_test_loader,\n",
        "    \"Idiom\"\n",
        ")\n",
        "\n",
        "# Prune and evaluate metaphor model\n",
        "print(\"\\n=== METAPHOR MODEL PRUNING ===\")\n",
        "metaphor_pruned_model, metaphor_pruning_percentage = prune_and_evaluate_model(\n",
        "    metaphor_model,\n",
        "    metaphor_importance,\n",
        "    metaphor_test_loader,\n",
        "    \"Metaphor\"\n",
        ")\n",
        "\n",
        "# Print summary\n",
        "print(\"\\n=== PRUNING SUMMARY ===\")\n",
        "print(f\"Idiom model: {idiom_pruning_percentage:.2f}% of attention heads pruned\")\n",
        "print(f\"Metaphor model: {metaphor_pruning_percentage:.2f}% of attention heads pruned\")\n",
        "\n"
      ],
      "metadata": {
        "id": "IeWRCvCg-9Tk",
        "colab": {
          "base_uri": "https://localhost:8080/"
        },
        "outputId": "e129b3fd-7687-4907-b179-6b61711e53f6"
      },
      "execution_count": null,
      "outputs": [
        {
          "output_type": "stream",
          "name": "stdout",
          "text": [
            "\n",
            "=== IDIOM MODEL PRUNING ===\n",
            "\n",
            "Raw (layer, head) importance scores:\n",
            "\n",
            "Number of heads below threshold: 12\n",
            "Idiom Pruning: 12 of 144 heads pruned (8.33%)\n",
            "\n",
            "Idiom Original Model (No Pruning)\n",
            "              precision    recall  f1-score   support\n",
            "\n",
            "   Non-Idiom       0.76      0.80      0.78       434\n",
            "       Idiom       0.92      0.90      0.91      1096\n",
            "\n",
            "    accuracy                           0.87      1530\n",
            "   macro avg       0.84      0.85      0.84      1530\n",
            "weighted avg       0.87      0.87      0.87      1530\n",
            "\n",
            "\n",
            "Idiom Pruned Model (Threshold-Based Pruning @ 0.0001)\n"
          ]
        },
        {
          "output_type": "stream",
          "name": "stderr",
          "text": [
            "BertSdpaSelfAttention is used but `torch.nn.functional.scaled_dot_product_attention` does not support non-absolute `position_embedding_type` or `output_attentions=True` or `head_mask`. Falling back to the manual attention implementation, but specifying the manual implementation will be required from Transformers version v5.0.0 onwards. This warning can be removed using the argument `attn_implementation=\"eager\"` when loading the model.\n"
          ]
        },
        {
          "output_type": "stream",
          "name": "stdout",
          "text": [
            "              precision    recall  f1-score   support\n",
            "\n",
            "   Non-Idiom       0.00      0.00      0.00       434\n",
            "       Idiom       0.72      1.00      0.83      1096\n",
            "\n",
            "    accuracy                           0.72      1530\n",
            "   macro avg       0.36      0.50      0.42      1530\n",
            "weighted avg       0.51      0.72      0.60      1530\n",
            "\n",
            "\n",
            "=== METAPHOR MODEL PRUNING ===\n",
            "\n",
            "Raw (layer, head) importance scores:\n",
            "\n",
            "Number of heads below threshold: 12\n",
            "Metaphor Pruning: 12 of 144 heads pruned (8.33%)\n",
            "\n",
            "Metaphor Original Model (No Pruning)\n",
            "              precision    recall  f1-score   support\n",
            "\n",
            "Non-Metaphor       0.94      0.85      0.89        20\n",
            "    Metaphor       0.86      0.95      0.90        20\n",
            "\n",
            "    accuracy                           0.90        40\n",
            "   macro avg       0.90      0.90      0.90        40\n",
            "weighted avg       0.90      0.90      0.90        40\n",
            "\n",
            "\n",
            "Metaphor Pruned Model (Threshold-Based Pruning @ 0.0001)\n",
            "              precision    recall  f1-score   support\n",
            "\n",
            "Non-Metaphor       1.00      0.05      0.10        20\n",
            "    Metaphor       0.51      1.00      0.68        20\n",
            "\n",
            "    accuracy                           0.53        40\n",
            "   macro avg       0.76      0.53      0.39        40\n",
            "weighted avg       0.76      0.53      0.39        40\n",
            "\n",
            "\n",
            "=== PRUNING SUMMARY ===\n",
            "Idiom model: 8.33% of attention heads pruned\n",
            "Metaphor model: 8.33% of attention heads pruned\n"
          ]
        }
      ]
    }
  ]
}