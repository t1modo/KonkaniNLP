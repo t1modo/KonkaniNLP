{
  "cells": [
    {
      "cell_type": "code",
      "execution_count": 1,
      "metadata": {
        "id": "oMUPyMIP4bhk"
      },
      "outputs": [],
      "source": [
        "# ===============================\n",
        "# 1. IMPORTS & SETUP\n",
        "# ===============================\n",
        "import pandas as pd\n",
        "import numpy as np\n",
        "import torch\n",
        "import torch.nn as nn\n",
        "from torch.utils.data import Dataset, DataLoader\n",
        "from transformers import BertTokenizer, BertModel\n",
        "from sklearn.model_selection import train_test_split\n",
        "from sklearn.metrics import classification_report\n",
        "from tqdm import tqdm\n",
        "import copy\n",
        "\n",
        "device = torch.device(\"cuda\" if torch.cuda.is_available() else \"cpu\")\n",
        "MAX_LEN = 128\n",
        "BATCH_SIZE = 16"
      ]
    },
    {
      "cell_type": "code",
      "execution_count": 3,
      "metadata": {
        "colab": {
          "base_uri": "https://localhost:8080/"
        },
        "id": "SF_lrdyX5LoD",
        "outputId": "928bd66d-0eae-4788-df8e-14f92ee4f7b8"
      },
      "outputs": [
        {
          "name": "stdout",
          "output_type": "stream",
          "text": [
            "Total samples in dataset: 6520\n",
            "Column names: ['Id', 'Expression', 'Sentence', 'Idiom', 'Metaphor', 'Split', 'Unnamed: 6', 'Unnamed: 7']\n",
            "Idiom distribution: {'Yes': 4399, 'No': 2121}\n",
            "Metaphor distribution: {'No': 383, 'Yes': 117}\n",
            "\n",
            "=== IDIOM DETECTION TASK (Using original split) ===\n",
            "Idiom training set size: 4990\n",
            "Idiom validation set size: 0\n",
            "Idiom test set size: 1530\n",
            "Idiom train/test ratio: 0.77/0.23\n",
            "\n",
            "=== METAPHOR DETECTION TASK (Balanced subset) ===\n",
            "Balanced metaphor dataset size: 200\n",
            "Metaphor distribution: {'Yes': 100, 'No': 100}\n",
            "Metaphor training set size: 160\n",
            "Metaphor test set size: 40\n"
          ]
        }
      ],
      "source": [
        "# ===============================\n",
        "# 2. LOAD & PREPROCESS DATA\n",
        "# ===============================\n",
        "# Set random seed for reproducibility\n",
        "SEED = 42  # You can choose any integer value\n",
        "\n",
        "# Load the dataset from Excel file\n",
        "df = pd.read_excel('dataset/Konkani_Dataset.xlsx')\n",
        "\n",
        "# Display basic information about the dataset\n",
        "print(f\"Total samples in dataset: {len(df)}\")\n",
        "print(f\"Column names: {df.columns.tolist()}\")\n",
        "print(f\"Idiom distribution: {df['Idiom'].value_counts().to_dict()}\")\n",
        "print(f\"Metaphor distribution: {df['Metaphor'].value_counts().to_dict()}\")\n",
        "\n",
        "# Prepare datasets based on the existing Split column for Idiom detection\n",
        "idiom_train_df = df[df['Split'] == 'Train']\n",
        "idiom_val_df = df[df['Split'] == 'Val']\n",
        "idiom_test_df = df[df['Split'] == 'Test']\n",
        "\n",
        "print(\"\\n=== IDIOM DETECTION TASK (Using original split) ===\")\n",
        "print(f\"Idiom training set size: {len(idiom_train_df)}\")\n",
        "print(f\"Idiom validation set size: {len(idiom_val_df)}\")\n",
        "print(f\"Idiom test set size: {len(idiom_test_df)}\")\n",
        "print(f\"Idiom train/test ratio: {len(idiom_train_df)/(len(idiom_train_df)+len(idiom_test_df)):.2f}/{len(idiom_test_df)/(len(idiom_train_df)+len(idiom_test_df)):.2f}\")\n",
        "\n",
        "# Create a balanced dataset for metaphor detection (100 Yes, 100 No)\n",
        "print(\"\\n=== METAPHOR DETECTION TASK (Balanced subset) ===\")\n",
        "metaphor_yes = df[df['Metaphor'] == 'Yes'].head(100)\n",
        "metaphor_no = df[df['Metaphor'] == 'No'].head(100)\n",
        "metaphor_df = pd.concat([metaphor_yes, metaphor_no]).reset_index(drop=True)\n",
        "\n",
        "# Create train-test split for metaphor detection (80% train, 20% test)\n",
        "metaphor_train_df, metaphor_test_df = train_test_split(\n",
        "    metaphor_df,\n",
        "    test_size=0.2,\n",
        "    random_state=SEED,\n",
        "    stratify=metaphor_df['Metaphor']  # Ensure balanced split\n",
        ")\n",
        "\n",
        "print(f\"Balanced metaphor dataset size: {len(metaphor_df)}\")\n",
        "print(f\"Metaphor distribution: {metaphor_df['Metaphor'].value_counts().to_dict()}\")\n",
        "print(f\"Metaphor training set size: {len(metaphor_train_df)}\")\n",
        "print(f\"Metaphor test set size: {len(metaphor_test_df)}\")\n"
      ]
    },
    {
      "cell_type": "code",
      "execution_count": 4,
      "metadata": {
        "colab": {
          "base_uri": "https://localhost:8080/",
          "height": 344,
          "referenced_widgets": [
            "df1b7faa90f94d5db02af9a1d76b7b94",
            "8b35fdfd31fd438282d0a63ff1943e23",
            "8c146705e8c64bd28de6b8b22f892ca4",
            "07574356d37142b3b1bce490d8a9c5f1",
            "fe448a8998e749e5b2d0da7bc7c160ca",
            "e89e0c247514429d82412fc51ec3eee5",
            "e98657a0646f45a893ad5522235f1198",
            "09e972cc0a33466d8a4d77f6fa783a09",
            "a1159a2ea1e947bcb353fbbd1540de0b",
            "f9ecce0a56c347aaabfa5c65e851cc66",
            "4af2dd1afaa448fa943a5c68dc4949d3",
            "d6eff32ecf9b42ee8d6cb824a44d6bbc",
            "b41422873d56475ea1514a24e7db3288",
            "0f0c9755ea224d578eb0796c1f7f8b7f",
            "3f25e1101383453fa79dea8c70af9cd7",
            "ab0eff8d2723464cab1a08a8222f0394",
            "0c81d3babf1443d0b5ac3f0532c9a226",
            "62e9c1584779436683dddbd54a639e70",
            "756762a9e61d4dd7a2a700c5f1d2e657",
            "aef6d881b1ed473ca2bba5bb8b97864e",
            "6b6e5f7a202c43e6ba76e212202f113c",
            "44df5cfbc07340c7925615f32b914c89",
            "c814ecca8fbd4e0cab3632f661dc08bd",
            "17a74c71a5414301a89cf515a6c08b91",
            "e55a0d79d0c4448db5cbd225217f6275",
            "ab2e628d5d0c43daaa5e3eabfbf4278d",
            "484b77a55361498daa84dcbfa9e352e2",
            "baee46b063534bcdbaa28db12bfb6d39",
            "aa7e7749c7c94d048b370c7df6f4cebb",
            "8175f8464c9647589e4868bac9bafa68",
            "afc48ea94d4742cf8ff1497a727bf5d6",
            "df8b2cb25e1c43728439ed757f707bd8",
            "fa2545e7c35b4459bf000d0380713c9e",
            "f7752c00309842f1adfb481d6ba44924",
            "54d541048beb4bca90035c13fbaaaad8",
            "51dc671e8dba44618bacaf64853af069",
            "59115b41a8d749c29b646e31267811b7",
            "0fb1b6a9e099470e8126f5df2312708e",
            "2d1dde0aac6545f6be0b9c5b0e932d84",
            "72e6b9f5bf1347a19a8610991a5e42e1",
            "16d594304d474a55957d3b0303c2121d",
            "eee384780557499989515b7d3a3475f2",
            "e51386cc955c4986b9065d3e0ef27696",
            "896c2063cd0e49f48ec32dc208c6c04f"
          ]
        },
        "id": "r2buNVzX76_6",
        "outputId": "622bb4c9-62fe-419a-9609-e71b2b2cae3d"
      },
      "outputs": [
        {
          "data": {
            "application/vnd.jupyter.widget-view+json": {
              "model_id": "df1b7faa90f94d5db02af9a1d76b7b94",
              "version_major": 2,
              "version_minor": 0
            },
            "text/plain": [
              "tokenizer_config.json:   0%|          | 0.00/49.0 [00:00<?, ?B/s]"
            ]
          },
          "metadata": {},
          "output_type": "display_data"
        },
        {
          "data": {
            "application/vnd.jupyter.widget-view+json": {
              "model_id": "d6eff32ecf9b42ee8d6cb824a44d6bbc",
              "version_major": 2,
              "version_minor": 0
            },
            "text/plain": [
              "vocab.txt:   0%|          | 0.00/996k [00:00<?, ?B/s]"
            ]
          },
          "metadata": {},
          "output_type": "display_data"
        },
        {
          "data": {
            "application/vnd.jupyter.widget-view+json": {
              "model_id": "c814ecca8fbd4e0cab3632f661dc08bd",
              "version_major": 2,
              "version_minor": 0
            },
            "text/plain": [
              "tokenizer.json:   0%|          | 0.00/1.96M [00:00<?, ?B/s]"
            ]
          },
          "metadata": {},
          "output_type": "display_data"
        },
        {
          "data": {
            "application/vnd.jupyter.widget-view+json": {
              "model_id": "f7752c00309842f1adfb481d6ba44924",
              "version_major": 2,
              "version_minor": 0
            },
            "text/plain": [
              "config.json:   0%|          | 0.00/625 [00:00<?, ?B/s]"
            ]
          },
          "metadata": {},
          "output_type": "display_data"
        },
        {
          "name": "stdout",
          "output_type": "stream",
          "text": [
            "Creating validation set from training data...\n",
            "Idiom - Train rows: 4029, Val rows: 961, Test rows: 1530\n",
            "Metaphor - Train rows: 160, Test rows: 40\n",
            "Dataset and DataLoader setup complete!\n"
          ]
        },
        {
          "name": "stderr",
          "output_type": "stream",
          "text": [
            "/tmp/ipython-input-4-1578112595.py:28: SettingWithCopyWarning: \n",
            "A value is trying to be set on a copy of a slice from a DataFrame.\n",
            "Try using .loc[row_indexer,col_indexer] = value instead\n",
            "\n",
            "See the caveats in the documentation: https://pandas.pydata.org/pandas-docs/stable/user_guide/indexing.html#returning-a-view-versus-a-copy\n",
            "  self.dataframe[\"label\"] = self.dataframe[self.label_col].map({\"Yes\": 1, \"No\": 0})\n"
          ]
        }
      ],
      "source": [
        "# ===============================\n",
        "# 3. TOKENIZER + DATASET\n",
        "# ===============================\n",
        "# Initialize the multilingual BERT tokenizer\n",
        "tokenizer = BertTokenizer.from_pretrained(\"bert-base-multilingual-cased\")\n",
        "\n",
        "# Define a dataset class that works for both idiom and metaphor classification\n",
        "class TextClassificationDataset(Dataset):\n",
        "    def __init__(self, dataframe, tokenizer, task_type=\"idiom\", max_len=MAX_LEN):\n",
        "        \"\"\"\n",
        "        Dataset class for text classification tasks\n",
        "\n",
        "        Args:\n",
        "            dataframe: Pandas DataFrame containing the data\n",
        "            tokenizer: Tokenizer to use for encoding text\n",
        "            task_type: Type of classification task (\"idiom\" or \"metaphor\")\n",
        "            max_len: Maximum sequence length for tokenization\n",
        "        \"\"\"\n",
        "        self.dataframe = dataframe\n",
        "        self.tokenizer = tokenizer\n",
        "        self.task_type = task_type\n",
        "        self.max_len = max_len\n",
        "\n",
        "        # Set the label column based on task type\n",
        "        self.label_col = \"Idiom\" if task_type == \"idiom\" else \"Metaphor\"\n",
        "\n",
        "        # Convert Yes/No labels to numeric values\n",
        "        self.dataframe[\"label\"] = self.dataframe[self.label_col].map({\"Yes\": 1, \"No\": 0})\n",
        "\n",
        "    def __len__(self):\n",
        "        return len(self.dataframe)\n",
        "\n",
        "    def __getitem__(self, idx):\n",
        "        row = self.dataframe.iloc[idx]\n",
        "\n",
        "        # Format text based on task type\n",
        "        prefix = \"[IDIOM]\" if self.task_type == \"idiom\" else \"[METAPHOR]\"\n",
        "        text_to_encode = f\"{prefix} {row['Expression']} [SEP] {row['Sentence']}\"\n",
        "\n",
        "        # Tokenize the text\n",
        "        encoding = self.tokenizer(\n",
        "            text_to_encode,\n",
        "            truncation=True,\n",
        "            padding='max_length',\n",
        "            max_length=self.max_len,\n",
        "            return_tensors='pt'\n",
        "        )\n",
        "\n",
        "        return {\n",
        "            \"input_ids\": encoding[\"input_ids\"].squeeze(),\n",
        "            \"attention_mask\": encoding[\"attention_mask\"].squeeze(),\n",
        "            \"label\": torch.tensor(row[\"label\"], dtype=torch.long)\n",
        "        }\n",
        "\n",
        "# ===============================\n",
        "# IDIOM CLASSIFICATION SETUP\n",
        "# ===============================\n",
        "# Create validation set from training data if needed\n",
        "if len(idiom_val_df) == 0:\n",
        "    print(\"Creating validation set from training data...\")\n",
        "    # Get unique expressions to avoid data leakage\n",
        "    unique_expressions = idiom_train_df[\"Expression\"].unique()\n",
        "\n",
        "    # Split expressions into train and val (no expression overlap)\n",
        "    expr_train, expr_val = train_test_split(\n",
        "        unique_expressions, test_size=0.2, random_state=42\n",
        "    )\n",
        "\n",
        "    # Assign expression-based split\n",
        "    idiom_val_df = idiom_train_df[idiom_train_df[\"Expression\"].isin(expr_val)].copy()\n",
        "    idiom_train_df = idiom_train_df[idiom_train_df[\"Expression\"].isin(expr_train)].copy()\n",
        "\n",
        "print(f\"Idiom - Train rows: {len(idiom_train_df)}, Val rows: {len(idiom_val_df)}, Test rows: {len(idiom_test_df)}\")\n",
        "\n",
        "# Create idiom datasets\n",
        "idiom_train_ds = TextClassificationDataset(idiom_train_df, tokenizer, task_type=\"idiom\")\n",
        "idiom_val_ds = TextClassificationDataset(idiom_val_df, tokenizer, task_type=\"idiom\")\n",
        "idiom_test_ds = TextClassificationDataset(idiom_test_df, tokenizer, task_type=\"idiom\")\n",
        "\n",
        "# Create idiom dataloaders\n",
        "idiom_train_loader = DataLoader(idiom_train_ds, batch_size=BATCH_SIZE, shuffle=True)\n",
        "idiom_val_loader = DataLoader(idiom_val_ds, batch_size=BATCH_SIZE)\n",
        "idiom_test_loader = DataLoader(idiom_test_ds, batch_size=BATCH_SIZE)\n",
        "\n",
        "# ===============================\n",
        "# METAPHOR CLASSIFICATION SETUP\n",
        "# ===============================\n",
        "print(f\"Metaphor - Train rows: {len(metaphor_train_df)}, Test rows: {len(metaphor_test_df)}\")\n",
        "\n",
        "# Create metaphor datasets\n",
        "metaphor_train_ds = TextClassificationDataset(metaphor_train_df, tokenizer, task_type=\"metaphor\")\n",
        "metaphor_test_ds = TextClassificationDataset(metaphor_test_df, tokenizer, task_type=\"metaphor\")\n",
        "\n",
        "# Create metaphor dataloaders\n",
        "metaphor_train_loader = DataLoader(metaphor_train_ds, batch_size=BATCH_SIZE, shuffle=True)\n",
        "metaphor_test_loader = DataLoader(metaphor_test_ds, batch_size=BATCH_SIZE)\n",
        "\n",
        "print(\"Dataset and DataLoader setup complete!\")\n"
      ]
    },
    {
      "cell_type": "code",
      "execution_count": 5,
      "metadata": {
        "colab": {
          "base_uri": "https://localhost:8080/",
          "height": 103,
          "referenced_widgets": [
            "e443cff2f3b14fab9e4437201857a7c5",
            "e75c63ee1cfc481eab4fce7ba04d2e17",
            "f9b04c67dd254acda9aeee45919717d5",
            "df9c4abfb2624709b45c82e67a12bdb3",
            "d3b396f9208d45e0a3b71ba3ea68a06f",
            "ce112f424a574ba2849d314c0dd04a4a",
            "4655dc011c9c41e783f4048f3871caad",
            "60b93889d3674e53a29ef27d68154bda",
            "115ecc23e8504f4a901404f02db357ae",
            "905c54c4fade42fa8d027787ade7cff8",
            "a80cbd9bf0b544d4b69415ace3023300"
          ]
        },
        "id": "qEEjcB-n85a_",
        "outputId": "a0f6dcb9-cfe7-4764-b2d9-8138ae91602d"
      },
      "outputs": [
        {
          "name": "stdout",
          "output_type": "stream",
          "text": [
            "Initializing models...\n"
          ]
        },
        {
          "data": {
            "application/vnd.jupyter.widget-view+json": {
              "model_id": "e443cff2f3b14fab9e4437201857a7c5",
              "version_major": 2,
              "version_minor": 0
            },
            "text/plain": [
              "model.safetensors:   0%|          | 0.00/714M [00:00<?, ?B/s]"
            ]
          },
          "metadata": {},
          "output_type": "display_data"
        },
        {
          "name": "stdout",
          "output_type": "stream",
          "text": [
            "Models initialized on device: cuda\n",
            "Idiom model and Metaphor model share the same architecture but will be trained separately\n"
          ]
        }
      ],
      "source": [
        "# ===============================\n",
        "# 4. MODEL: mBERT + BiLSTM\n",
        "# ===============================\n",
        "'''\n",
        "class BERT_LSTM(nn.Module):\n",
        "    def __init__(self, hidden_dim=128, num_classes=2):\n",
        "        \"\"\"\n",
        "        BERT + BiLSTM model for text classification\n",
        "\n",
        "        Args:\n",
        "            hidden_dim: Hidden dimension of the LSTM\n",
        "            num_classes: Number of output classes\n",
        "        \"\"\"\n",
        "        super(BERT_LSTM, self).__init__()\n",
        "        self.bert = BertModel.from_pretrained(\"bert-base-multilingual-cased\")\n",
        "        self.lstm = nn.LSTM(input_size=768, hidden_size=hidden_dim, batch_first=True, bidirectional=True)\n",
        "        self.dropout = nn.Dropout(0.1)\n",
        "        self.fc = nn.Linear(hidden_dim * 2, num_classes)\n",
        "\n",
        "    def forward(self, input_ids, attention_mask):\n",
        "        outputs = self.bert(input_ids=input_ids, attention_mask=attention_mask)\n",
        "        lstm_out, _ = self.lstm(outputs.last_hidden_state)\n",
        "        pooled = torch.mean(lstm_out, dim=1)\n",
        "        return self.fc(self.dropout(pooled))\n",
        "'''\n",
        "\n",
        "class BERT_Only(nn.Module):\n",
        "    def __init__(self, num_classes=2):\n",
        "        super(BERT_Only, self).__init__()\n",
        "        self.bert = BertModel.from_pretrained(\"bert-base-multilingual-cased\")\n",
        "        self.dropout = nn.Dropout(0.1)\n",
        "        self.fc = nn.Linear(768, num_classes)\n",
        "\n",
        "    def forward(self, input_ids, attention_mask):\n",
        "        outputs = self.bert(input_ids=input_ids, attention_mask=attention_mask)\n",
        "        pooled = outputs.pooler_output  # [CLS] token\n",
        "        return self.fc(self.dropout(pooled))\n",
        "\n",
        "\n",
        "# Create separate models for idiom and metaphor classification\n",
        "print(\"Initializing models...\")\n",
        "idiom_model = BERT_Only(num_classes=2).to(device)\n",
        "metaphor_model = BERT_Only(num_classes=2).to(device)\n",
        "\n",
        "# Initialize optimizers and loss function\n",
        "idiom_optimizer = torch.optim.AdamW(idiom_model.parameters(), lr=2e-5)\n",
        "metaphor_optimizer = torch.optim.AdamW(metaphor_model.parameters(), lr=2e-5)\n",
        "loss_fn = nn.CrossEntropyLoss()\n",
        "\n",
        "print(f\"Models initialized on device: {device}\")\n",
        "print(\"Idiom model and Metaphor model share the same architecture but will be trained separately\")\n",
        "\n"
      ]
    },
    {
      "cell_type": "code",
      "execution_count": 6,
      "metadata": {
        "id": "r3AK4SI186Sp"
      },
      "outputs": [],
      "source": [
        "# ===============================\n",
        "# 5. TRAINING & VALIDATION\n",
        "# ===============================\n",
        "def train(model, loader, optimizer):\n",
        "    \"\"\"Train the model for one epoch\"\"\"\n",
        "    model.train()\n",
        "    total_loss = 0\n",
        "    for batch in tqdm(loader, desc=\"Training\"):\n",
        "        input_ids = batch[\"input_ids\"].to(device)\n",
        "        attention_mask = batch[\"attention_mask\"].to(device)\n",
        "        labels = batch[\"label\"].to(device)\n",
        "\n",
        "        optimizer.zero_grad()\n",
        "        outputs = model(input_ids, attention_mask)\n",
        "        loss = loss_fn(outputs, labels)\n",
        "        loss.backward()\n",
        "        optimizer.step()\n",
        "        total_loss += loss.item()\n",
        "    return total_loss / len(loader)\n",
        "\n",
        "def validate(model, loader):\n",
        "    \"\"\"Validate the model on validation set\"\"\"\n",
        "    model.eval()\n",
        "    total_loss = 0\n",
        "    with torch.no_grad():\n",
        "        for batch in loader:\n",
        "            input_ids = batch[\"input_ids\"].to(device)\n",
        "            attention_mask = batch[\"attention_mask\"].to(device)\n",
        "            labels = batch[\"label\"].to(device)\n",
        "\n",
        "            outputs = model(input_ids, attention_mask)\n",
        "            loss = loss_fn(outputs, labels)\n",
        "            total_loss += loss.item()\n",
        "    return total_loss / len(loader)\n",
        "\n",
        "def evaluate(model, loader, task_type=\"idiom\"):\n",
        "    \"\"\"Evaluate the model and print classification report\"\"\"\n",
        "    model.eval()\n",
        "    predictions, targets = [], []\n",
        "    with torch.no_grad():\n",
        "        for batch in loader:\n",
        "            input_ids = batch[\"input_ids\"].to(device)\n",
        "            attention_mask = batch[\"attention_mask\"].to(device)\n",
        "            labels = batch[\"label\"].to(device)\n",
        "\n",
        "            outputs = model(input_ids, attention_mask)\n",
        "            preds = torch.argmax(outputs, dim=1)\n",
        "            predictions.extend(preds.cpu().numpy())\n",
        "            targets.extend(labels.cpu().numpy())\n",
        "\n",
        "    # Set appropriate target names based on task type\n",
        "    if task_type == \"idiom\":\n",
        "        target_names = [\"Non-Idiom\", \"Idiom\"]\n",
        "    else:  # metaphor\n",
        "        target_names = [\"Non-Metaphor\", \"Metaphor\"]\n",
        "\n",
        "    print(classification_report(\n",
        "        targets, predictions,\n",
        "        labels=[0, 1],\n",
        "        target_names=target_names,\n",
        "        zero_division=0\n",
        "    ))\n",
        "\n",
        "    return predictions, targets\n"
      ]
    },
    {
      "cell_type": "code",
      "execution_count": 7,
      "metadata": {
        "colab": {
          "base_uri": "https://localhost:8080/"
        },
        "id": "O0WDgDvB9Tyb",
        "outputId": "f8e83ca8-c5e8-45c2-e4da-6d28fa01b616"
      },
      "outputs": [
        {
          "name": "stdout",
          "output_type": "stream",
          "text": [
            "\n",
            "=== Training Idiom Model ===\n",
            "\n",
            "Epoch 1\n"
          ]
        },
        {
          "name": "stderr",
          "output_type": "stream",
          "text": [
            "Training: 100%|██████████| 252/252 [01:36<00:00,  2.62it/s]\n"
          ]
        },
        {
          "name": "stdout",
          "output_type": "stream",
          "text": [
            "Train Loss: 0.6042 | Val Loss: 0.5168\n",
            "✅ Validation loss improved, saving model.\n",
            "\n",
            "Epoch 2\n"
          ]
        },
        {
          "name": "stderr",
          "output_type": "stream",
          "text": [
            "Training: 100%|██████████| 252/252 [01:36<00:00,  2.62it/s]\n"
          ]
        },
        {
          "name": "stdout",
          "output_type": "stream",
          "text": [
            "Train Loss: 0.4775 | Val Loss: 0.4819\n",
            "✅ Validation loss improved, saving model.\n",
            "\n",
            "Epoch 3\n"
          ]
        },
        {
          "name": "stderr",
          "output_type": "stream",
          "text": [
            "Training: 100%|██████████| 252/252 [01:36<00:00,  2.62it/s]\n"
          ]
        },
        {
          "name": "stdout",
          "output_type": "stream",
          "text": [
            "Train Loss: 0.3696 | Val Loss: 0.4565\n",
            "✅ Validation loss improved, saving model.\n",
            "\n",
            "Epoch 4\n"
          ]
        },
        {
          "name": "stderr",
          "output_type": "stream",
          "text": [
            "Training: 100%|██████████| 252/252 [01:36<00:00,  2.62it/s]\n"
          ]
        },
        {
          "name": "stdout",
          "output_type": "stream",
          "text": [
            "Train Loss: 0.2697 | Val Loss: 0.5723\n",
            "⚠️ No improvement.\n",
            "\n",
            "Epoch 5\n"
          ]
        },
        {
          "name": "stderr",
          "output_type": "stream",
          "text": [
            "Training: 100%|██████████| 252/252 [01:36<00:00,  2.61it/s]\n"
          ]
        },
        {
          "name": "stdout",
          "output_type": "stream",
          "text": [
            "Train Loss: 0.1941 | Val Loss: 0.5811\n",
            "⚠️ No improvement.\n",
            "\n",
            "Epoch 6\n"
          ]
        },
        {
          "name": "stderr",
          "output_type": "stream",
          "text": [
            "Training: 100%|██████████| 252/252 [01:36<00:00,  2.62it/s]\n"
          ]
        },
        {
          "name": "stdout",
          "output_type": "stream",
          "text": [
            "Train Loss: 0.1277 | Val Loss: 0.6197\n",
            "⚠️ No improvement.\n",
            "\n",
            "Epoch 7\n"
          ]
        },
        {
          "name": "stderr",
          "output_type": "stream",
          "text": [
            "Training: 100%|██████████| 252/252 [01:36<00:00,  2.62it/s]\n"
          ]
        },
        {
          "name": "stdout",
          "output_type": "stream",
          "text": [
            "Train Loss: 0.1074 | Val Loss: 0.7256\n",
            "⚠️ No improvement.\n",
            "\n",
            "Epoch 8\n"
          ]
        },
        {
          "name": "stderr",
          "output_type": "stream",
          "text": [
            "Training: 100%|██████████| 252/252 [01:36<00:00,  2.62it/s]\n"
          ]
        },
        {
          "name": "stdout",
          "output_type": "stream",
          "text": [
            "Train Loss: 0.0806 | Val Loss: 0.7597\n",
            "⚠️ No improvement.\n",
            "\n",
            "Epoch 9\n"
          ]
        },
        {
          "name": "stderr",
          "output_type": "stream",
          "text": [
            "Training: 100%|██████████| 252/252 [01:36<00:00,  2.62it/s]\n"
          ]
        },
        {
          "name": "stdout",
          "output_type": "stream",
          "text": [
            "Train Loss: 0.0525 | Val Loss: 0.8505\n",
            "⚠️ No improvement.\n",
            "\n",
            "Epoch 10\n"
          ]
        },
        {
          "name": "stderr",
          "output_type": "stream",
          "text": [
            "Training: 100%|██████████| 252/252 [01:36<00:00,  2.62it/s]\n"
          ]
        },
        {
          "name": "stdout",
          "output_type": "stream",
          "text": [
            "Train Loss: 0.0515 | Val Loss: 0.9018\n",
            "⚠️ No improvement.\n",
            "\n",
            "Epoch 11\n"
          ]
        },
        {
          "name": "stderr",
          "output_type": "stream",
          "text": [
            "Training: 100%|██████████| 252/252 [01:35<00:00,  2.63it/s]\n"
          ]
        },
        {
          "name": "stdout",
          "output_type": "stream",
          "text": [
            "Train Loss: 0.0537 | Val Loss: 0.9172\n",
            "⚠️ No improvement.\n",
            "\n",
            "Epoch 12\n"
          ]
        },
        {
          "name": "stderr",
          "output_type": "stream",
          "text": [
            "Training: 100%|██████████| 252/252 [01:36<00:00,  2.62it/s]\n"
          ]
        },
        {
          "name": "stdout",
          "output_type": "stream",
          "text": [
            "Train Loss: 0.0392 | Val Loss: 1.1787\n",
            "⚠️ No improvement.\n",
            "\n",
            "Epoch 13\n"
          ]
        },
        {
          "name": "stderr",
          "output_type": "stream",
          "text": [
            "Training: 100%|██████████| 252/252 [01:36<00:00,  2.62it/s]\n"
          ]
        },
        {
          "name": "stdout",
          "output_type": "stream",
          "text": [
            "Train Loss: 0.0485 | Val Loss: 0.9801\n",
            "⚠️ No improvement.\n",
            "⏹️ Early stopping triggered.\n",
            "\n",
            "=== Idiom Model Training Complete ===\n",
            "\n",
            "=== Idiom Model Validation Results ===\n",
            "              precision    recall  f1-score   support\n",
            "\n",
            "   Non-Idiom       0.71      0.60      0.65       295\n",
            "       Idiom       0.83      0.89      0.86       666\n",
            "\n",
            "    accuracy                           0.80       961\n",
            "   macro avg       0.77      0.75      0.76       961\n",
            "weighted avg       0.80      0.80      0.80       961\n",
            "\n",
            "\n",
            "=== Training Metaphor Model ===\n",
            "\n",
            "Epoch 1\n"
          ]
        },
        {
          "name": "stderr",
          "output_type": "stream",
          "text": [
            "Training: 100%|██████████| 10/10 [00:03<00:00,  2.63it/s]\n"
          ]
        },
        {
          "name": "stdout",
          "output_type": "stream",
          "text": [
            "Train Loss: 0.7231 | Val Loss: 0.7110\n",
            "✅ Validation loss improved, saving model.\n",
            "\n",
            "Epoch 2\n"
          ]
        },
        {
          "name": "stderr",
          "output_type": "stream",
          "text": [
            "Training: 100%|██████████| 10/10 [00:03<00:00,  2.61it/s]\n"
          ]
        },
        {
          "name": "stdout",
          "output_type": "stream",
          "text": [
            "Train Loss: 0.6916 | Val Loss: 0.6905\n",
            "✅ Validation loss improved, saving model.\n",
            "\n",
            "Epoch 3\n"
          ]
        },
        {
          "name": "stderr",
          "output_type": "stream",
          "text": [
            "Training: 100%|██████████| 10/10 [00:03<00:00,  2.60it/s]\n"
          ]
        },
        {
          "name": "stdout",
          "output_type": "stream",
          "text": [
            "Train Loss: 0.6460 | Val Loss: 0.7333\n",
            "⚠️ No improvement.\n",
            "\n",
            "Epoch 4\n"
          ]
        },
        {
          "name": "stderr",
          "output_type": "stream",
          "text": [
            "Training: 100%|██████████| 10/10 [00:03<00:00,  2.61it/s]\n"
          ]
        },
        {
          "name": "stdout",
          "output_type": "stream",
          "text": [
            "Train Loss: 0.5993 | Val Loss: 0.6349\n",
            "✅ Validation loss improved, saving model.\n",
            "\n",
            "Epoch 5\n"
          ]
        },
        {
          "name": "stderr",
          "output_type": "stream",
          "text": [
            "Training: 100%|██████████| 10/10 [00:03<00:00,  2.62it/s]\n"
          ]
        },
        {
          "name": "stdout",
          "output_type": "stream",
          "text": [
            "Train Loss: 0.5257 | Val Loss: 0.6281\n",
            "✅ Validation loss improved, saving model.\n",
            "\n",
            "Epoch 6\n"
          ]
        },
        {
          "name": "stderr",
          "output_type": "stream",
          "text": [
            "Training: 100%|██████████| 10/10 [00:03<00:00,  2.59it/s]\n"
          ]
        },
        {
          "name": "stdout",
          "output_type": "stream",
          "text": [
            "Train Loss: 0.4119 | Val Loss: 0.5941\n",
            "✅ Validation loss improved, saving model.\n",
            "\n",
            "Epoch 7\n"
          ]
        },
        {
          "name": "stderr",
          "output_type": "stream",
          "text": [
            "Training: 100%|██████████| 10/10 [00:03<00:00,  2.62it/s]\n"
          ]
        },
        {
          "name": "stdout",
          "output_type": "stream",
          "text": [
            "Train Loss: 0.2959 | Val Loss: 0.6295\n",
            "⚠️ No improvement.\n",
            "\n",
            "Epoch 8\n"
          ]
        },
        {
          "name": "stderr",
          "output_type": "stream",
          "text": [
            "Training: 100%|██████████| 10/10 [00:03<00:00,  2.62it/s]\n"
          ]
        },
        {
          "name": "stdout",
          "output_type": "stream",
          "text": [
            "Train Loss: 0.1626 | Val Loss: 0.7523\n",
            "⚠️ No improvement.\n",
            "\n",
            "Epoch 9\n"
          ]
        },
        {
          "name": "stderr",
          "output_type": "stream",
          "text": [
            "Training: 100%|██████████| 10/10 [00:03<00:00,  2.59it/s]\n"
          ]
        },
        {
          "name": "stdout",
          "output_type": "stream",
          "text": [
            "Train Loss: 0.0872 | Val Loss: 0.9638\n",
            "⚠️ No improvement.\n",
            "\n",
            "Epoch 10\n"
          ]
        },
        {
          "name": "stderr",
          "output_type": "stream",
          "text": [
            "Training: 100%|██████████| 10/10 [00:03<00:00,  2.61it/s]\n"
          ]
        },
        {
          "name": "stdout",
          "output_type": "stream",
          "text": [
            "Train Loss: 0.1483 | Val Loss: 0.5344\n",
            "✅ Validation loss improved, saving model.\n",
            "\n",
            "Epoch 11\n"
          ]
        },
        {
          "name": "stderr",
          "output_type": "stream",
          "text": [
            "Training: 100%|██████████| 10/10 [00:03<00:00,  2.63it/s]\n"
          ]
        },
        {
          "name": "stdout",
          "output_type": "stream",
          "text": [
            "Train Loss: 0.2697 | Val Loss: 0.9582\n",
            "⚠️ No improvement.\n",
            "\n",
            "Epoch 12\n"
          ]
        },
        {
          "name": "stderr",
          "output_type": "stream",
          "text": [
            "Training: 100%|██████████| 10/10 [00:03<00:00,  2.61it/s]\n"
          ]
        },
        {
          "name": "stdout",
          "output_type": "stream",
          "text": [
            "Train Loss: 0.1481 | Val Loss: 0.5046\n",
            "✅ Validation loss improved, saving model.\n",
            "\n",
            "Epoch 13\n"
          ]
        },
        {
          "name": "stderr",
          "output_type": "stream",
          "text": [
            "Training: 100%|██████████| 10/10 [00:03<00:00,  2.63it/s]\n"
          ]
        },
        {
          "name": "stdout",
          "output_type": "stream",
          "text": [
            "Train Loss: 0.0822 | Val Loss: 0.5680\n",
            "⚠️ No improvement.\n",
            "\n",
            "Epoch 14\n"
          ]
        },
        {
          "name": "stderr",
          "output_type": "stream",
          "text": [
            "Training: 100%|██████████| 10/10 [00:03<00:00,  2.62it/s]\n"
          ]
        },
        {
          "name": "stdout",
          "output_type": "stream",
          "text": [
            "Train Loss: 0.0321 | Val Loss: 1.0945\n",
            "⚠️ No improvement.\n",
            "\n",
            "Epoch 15\n"
          ]
        },
        {
          "name": "stderr",
          "output_type": "stream",
          "text": [
            "Training: 100%|██████████| 10/10 [00:03<00:00,  2.61it/s]\n"
          ]
        },
        {
          "name": "stdout",
          "output_type": "stream",
          "text": [
            "Train Loss: 0.1388 | Val Loss: 1.0384\n",
            "⚠️ No improvement.\n",
            "\n",
            "Epoch 16\n"
          ]
        },
        {
          "name": "stderr",
          "output_type": "stream",
          "text": [
            "Training: 100%|██████████| 10/10 [00:03<00:00,  2.64it/s]\n"
          ]
        },
        {
          "name": "stdout",
          "output_type": "stream",
          "text": [
            "Train Loss: 0.0675 | Val Loss: 0.8226\n",
            "⚠️ No improvement.\n",
            "\n",
            "Epoch 17\n"
          ]
        },
        {
          "name": "stderr",
          "output_type": "stream",
          "text": [
            "Training: 100%|██████████| 10/10 [00:03<00:00,  2.63it/s]\n"
          ]
        },
        {
          "name": "stdout",
          "output_type": "stream",
          "text": [
            "Train Loss: 0.0160 | Val Loss: 0.9564\n",
            "⚠️ No improvement.\n",
            "\n",
            "Epoch 18\n"
          ]
        },
        {
          "name": "stderr",
          "output_type": "stream",
          "text": [
            "Training: 100%|██████████| 10/10 [00:03<00:00,  2.63it/s]\n"
          ]
        },
        {
          "name": "stdout",
          "output_type": "stream",
          "text": [
            "Train Loss: 0.0245 | Val Loss: 0.9631\n",
            "⚠️ No improvement.\n",
            "\n",
            "Epoch 19\n"
          ]
        },
        {
          "name": "stderr",
          "output_type": "stream",
          "text": [
            "Training: 100%|██████████| 10/10 [00:03<00:00,  2.63it/s]\n"
          ]
        },
        {
          "name": "stdout",
          "output_type": "stream",
          "text": [
            "Train Loss: 0.0325 | Val Loss: 1.0329\n",
            "⚠️ No improvement.\n",
            "\n",
            "Epoch 20\n"
          ]
        },
        {
          "name": "stderr",
          "output_type": "stream",
          "text": [
            "Training: 100%|██████████| 10/10 [00:03<00:00,  2.62it/s]\n"
          ]
        },
        {
          "name": "stdout",
          "output_type": "stream",
          "text": [
            "Train Loss: 0.0089 | Val Loss: 1.0665\n",
            "⚠️ No improvement.\n",
            "\n",
            "=== Metaphor Model Training Complete ===\n",
            "\n",
            "=== Metaphor Model Validation Results ===\n",
            "              precision    recall  f1-score   support\n",
            "\n",
            "Non-Metaphor       0.88      0.70      0.78        20\n",
            "    Metaphor       0.75      0.90      0.82        20\n",
            "\n",
            "    accuracy                           0.80        40\n",
            "   macro avg       0.81      0.80      0.80        40\n",
            "weighted avg       0.81      0.80      0.80        40\n",
            "\n"
          ]
        },
        {
          "data": {
            "text/plain": [
              "([np.int64(0),\n",
              "  np.int64(1),\n",
              "  np.int64(1),\n",
              "  np.int64(1),\n",
              "  np.int64(0),\n",
              "  np.int64(1),\n",
              "  np.int64(0),\n",
              "  np.int64(1),\n",
              "  np.int64(1),\n",
              "  np.int64(1),\n",
              "  np.int64(1),\n",
              "  np.int64(1),\n",
              "  np.int64(0),\n",
              "  np.int64(0),\n",
              "  np.int64(0),\n",
              "  np.int64(1),\n",
              "  np.int64(1),\n",
              "  np.int64(0),\n",
              "  np.int64(1),\n",
              "  np.int64(1),\n",
              "  np.int64(1),\n",
              "  np.int64(1),\n",
              "  np.int64(1),\n",
              "  np.int64(0),\n",
              "  np.int64(1),\n",
              "  np.int64(1),\n",
              "  np.int64(1),\n",
              "  np.int64(0),\n",
              "  np.int64(1),\n",
              "  np.int64(0),\n",
              "  np.int64(1),\n",
              "  np.int64(0),\n",
              "  np.int64(1),\n",
              "  np.int64(0),\n",
              "  np.int64(0),\n",
              "  np.int64(0),\n",
              "  np.int64(0),\n",
              "  np.int64(0),\n",
              "  np.int64(1),\n",
              "  np.int64(1)],\n",
              " [np.int64(0),\n",
              "  np.int64(1),\n",
              "  np.int64(1),\n",
              "  np.int64(1),\n",
              "  np.int64(0),\n",
              "  np.int64(1),\n",
              "  np.int64(0),\n",
              "  np.int64(1),\n",
              "  np.int64(1),\n",
              "  np.int64(0),\n",
              "  np.int64(1),\n",
              "  np.int64(1),\n",
              "  np.int64(0),\n",
              "  np.int64(1),\n",
              "  np.int64(0),\n",
              "  np.int64(0),\n",
              "  np.int64(1),\n",
              "  np.int64(0),\n",
              "  np.int64(0),\n",
              "  np.int64(1),\n",
              "  np.int64(0),\n",
              "  np.int64(1),\n",
              "  np.int64(1),\n",
              "  np.int64(1),\n",
              "  np.int64(1),\n",
              "  np.int64(1),\n",
              "  np.int64(1),\n",
              "  np.int64(0),\n",
              "  np.int64(1),\n",
              "  np.int64(0),\n",
              "  np.int64(1),\n",
              "  np.int64(0),\n",
              "  np.int64(0),\n",
              "  np.int64(0),\n",
              "  np.int64(0),\n",
              "  np.int64(0),\n",
              "  np.int64(0),\n",
              "  np.int64(0),\n",
              "  np.int64(1),\n",
              "  np.int64(0)])"
            ]
          },
          "execution_count": 7,
          "metadata": {},
          "output_type": "execute_result"
        }
      ],
      "source": [
        "# ===============================\n",
        "# 6. EARLY STOPPING TRAINING\n",
        "# ===============================\n",
        "def train_with_early_stopping(model, train_loader, val_loader, optimizer, task_name, epochs=20, patience=10):\n",
        "    \"\"\"Train model with early stopping\"\"\"\n",
        "    print(f\"\\n=== Training {task_name} Model ===\")\n",
        "    best_val_loss = float('inf')\n",
        "    patience_counter = 0\n",
        "    best_model = None\n",
        "\n",
        "    for epoch in range(epochs):\n",
        "        print(f\"\\nEpoch {epoch + 1}\")\n",
        "        train_loss = train(model, train_loader, optimizer)\n",
        "        val_loss = validate(model, val_loader)\n",
        "        print(f\"Train Loss: {train_loss:.4f} | Val Loss: {val_loss:.4f}\")\n",
        "\n",
        "        if val_loss < best_val_loss:\n",
        "            best_val_loss = val_loss\n",
        "            best_model = copy.deepcopy(model.state_dict())\n",
        "            patience_counter = 0\n",
        "            print(\"✅ Validation loss improved, saving model.\")\n",
        "        else:\n",
        "            patience_counter += 1\n",
        "            print(\"⚠️ No improvement.\")\n",
        "\n",
        "        if patience_counter >= patience:\n",
        "            print(\"⏹️ Early stopping triggered.\")\n",
        "            break\n",
        "\n",
        "    # Load best model\n",
        "    model.load_state_dict(best_model)\n",
        "    print(f\"\\n=== {task_name} Model Training Complete ===\")\n",
        "    return model\n",
        "\n",
        "# Train idiom model\n",
        "EPOCHS = 20\n",
        "PATIENCE = 10\n",
        "\n",
        "# Check if validation set exists for idiom task\n",
        "if len(idiom_val_df) > 0:\n",
        "    idiom_model = train_with_early_stopping(\n",
        "        idiom_model, idiom_train_loader, idiom_val_loader,\n",
        "        idiom_optimizer, \"Idiom\", EPOCHS, PATIENCE\n",
        "    )\n",
        "    print(\"\\n=== Idiom Model Validation Results ===\")\n",
        "    evaluate(idiom_model, idiom_val_loader, task_type=\"idiom\")\n",
        "else:\n",
        "    print(\"No validation set available for idiom task. Skipping training.\")\n",
        "\n",
        "# Train metaphor model\n",
        "# Create validation set for metaphor if needed\n",
        "metaphor_val_df = metaphor_test_df  # Using test set as validation for simplicity\n",
        "metaphor_val_ds = TextClassificationDataset(metaphor_val_df, tokenizer, task_type=\"metaphor\")\n",
        "metaphor_val_loader = DataLoader(metaphor_val_ds, batch_size=BATCH_SIZE)\n",
        "\n",
        "metaphor_model = train_with_early_stopping(\n",
        "    metaphor_model, metaphor_train_loader, metaphor_val_loader,\n",
        "    metaphor_optimizer, \"Metaphor\", EPOCHS, PATIENCE\n",
        ")\n",
        "print(\"\\n=== Metaphor Model Validation Results ===\")\n",
        "evaluate(metaphor_model, metaphor_val_loader, task_type=\"metaphor\")\n"
      ]
    },
    {
      "cell_type": "code",
      "execution_count": 8,
      "metadata": {
        "id": "9Ll_Gc4E9X2e"
      },
      "outputs": [],
      "source": [
        "# ===============================\n",
        "# 7. ATTENTION HEAD IMPORTANCE ANALYSIS\n",
        "# ===============================\n",
        "def analyze_attention_importance(model, val_loader, model_name=\"Model\"):\n",
        "    \"\"\"\n",
        "    Analyze and visualize attention head importance for a given model\n",
        "\n",
        "    Args:\n",
        "        model: The model to analyze\n",
        "        val_loader: Validation data loader\n",
        "        model_name: Name of the model for display purposes\n",
        "    \"\"\"\n",
        "    head_grads = {}\n",
        "\n",
        "    def save_attention_hook(layer_id, head_id):\n",
        "        def hook_fn(grad):\n",
        "            key = (layer_id, head_id)\n",
        "            grad_norm = grad.detach().pow(2).sum().item()\n",
        "            head_grads[key] = head_grads.get(key, 0) + grad_norm\n",
        "        return hook_fn\n",
        "\n",
        "    def register_attention_hooks(model):\n",
        "        hooks = []\n",
        "        for layer_id, layer in enumerate(model.bert.encoder.layer):\n",
        "            def backward_hook_fn(module, grad_input, grad_output, lid=layer_id):\n",
        "                batch_size, seq_len, hidden = grad_output[0].shape\n",
        "                head_dim = hidden // layer.attention.self.num_attention_heads\n",
        "                reshaped = grad_output[0].view(batch_size, seq_len, -1, head_dim).mean(1)\n",
        "                for head_id in range(reshaped.shape[1]):\n",
        "                    g = reshaped[:, head_id, :].reshape(-1)\n",
        "                    save_attention_hook(lid, head_id)(g)\n",
        "            hooks.append(layer.output.register_full_backward_hook(backward_hook_fn))\n",
        "        return hooks\n",
        "\n",
        "    print(f\"\\n=== Analyzing Attention Head Importance for {model_name} ===\")\n",
        "\n",
        "    # Register hooks and compute gradients\n",
        "    model.train()  # required for cuDNN + LSTM backprop\n",
        "    hooks = register_attention_hooks(model)\n",
        "\n",
        "    with torch.set_grad_enabled(True):  # Ensures autograd is fully on\n",
        "        for batch in val_loader:\n",
        "            input_ids = batch[\"input_ids\"].to(device)\n",
        "            attention_mask = batch[\"attention_mask\"].to(device)\n",
        "            labels = batch[\"label\"].to(device)\n",
        "\n",
        "            outputs = model(input_ids, attention_mask)\n",
        "            loss = loss_fn(outputs, labels)\n",
        "\n",
        "            model.zero_grad()\n",
        "            loss.backward()\n",
        "            break  # only one batch needed\n",
        "\n",
        "    # Remove hooks\n",
        "    for h in hooks:\n",
        "        h.remove()\n",
        "\n",
        "    model.eval()\n",
        "\n",
        "    # Normalize gradients and organize by layer\n",
        "    layer_head_importance = {}\n",
        "    for (layer, head), grad_val in head_grads.items():\n",
        "        layer_head_importance.setdefault(layer, []).append(grad_val)\n",
        "\n",
        "    # Print normalized importance scores\n",
        "    print(f\"\\n{model_name} Attention Head Importance (normalized):\")\n",
        "    for layer in sorted(layer_head_importance):\n",
        "        scores = np.array(layer_head_importance[layer])\n",
        "        norm_scores = (scores - scores.min()) / (scores.max() - scores.min() + 1e-9)\n",
        "        print(f\"Layer {layer}: {np.round(norm_scores, 3).tolist()}\")\n",
        "\n",
        "    # Visualize as heatmap\n",
        "    num_layers = max(layer_head_importance.keys()) + 1\n",
        "    num_heads = max(len(v) for v in layer_head_importance.values())\n",
        "    importance_matrix = np.zeros((num_layers, num_heads))\n",
        "\n",
        "    for layer, scores in layer_head_importance.items():\n",
        "        scores = np.array(scores)\n",
        "        scores = (scores - scores.min()) / (scores.max() - scores.min() + 1e-9)  # normalize again\n",
        "        importance_matrix[layer, :len(scores)] = scores\n",
        "\n",
        "    plt.figure(figsize=(12, 6))\n",
        "    sns.heatmap(\n",
        "        importance_matrix,\n",
        "        annot=True,\n",
        "        cmap=\"YlGnBu\",\n",
        "        xticklabels=[f\"H{i}\" for i in range(num_heads)],\n",
        "        yticklabels=[f\"L{i}\" for i in range(num_layers)],\n",
        "        cbar_kws={'label': 'Normalized Importance'}\n",
        "    )\n",
        "    plt.title(f\"Attention Head Importance Heatmap (Layer vs. Head)\")\n",
        "    plt.xlabel(\"Head\")\n",
        "    plt.ylabel(\"Layer\")\n",
        "    plt.tight_layout()\n",
        "    plt.savefig(f\"{model_name.lower().replace(' ', '_')}_attention_importance.png\")\n",
        "    plt.show()\n",
        "\n",
        "    return layer_head_importance\n"
      ]
    },
    {
      "cell_type": "code",
      "execution_count": 9,
      "metadata": {
        "colab": {
          "base_uri": "https://localhost:8080/",
          "height": 1000
        },
        "id": "QtG8uCDz-ENv",
        "outputId": "d485f411-0253-416d-c8f1-c27241428b9c"
      },
      "outputs": [
        {
          "name": "stdout",
          "output_type": "stream",
          "text": [
            "\n",
            "=== IDIOM MODEL ANALYSIS ===\n",
            "\n",
            "=== Analyzing Attention Head Importance for Idiom ===\n",
            "\n",
            "Idiom Attention Head Importance (normalized):\n",
            "Layer 0: [0.59, 0.681, 0.197, 0.55, 0.46, 0.993, 0.691, 0.527, 0.0, 0.288, 0.154, 0.681]\n",
            "Layer 1: [0.608, 0.993, 0.0, 0.825, 0.327, 0.945, 0.689, 0.685, 0.608, 0.507, 0.153, 0.599]\n",
            "Layer 2: [0.077, 0.328, 0.0, 0.505, 0.312, 0.799, 0.473, 0.081, 0.369, 0.99, 0.021, 0.173]\n",
            "Layer 3: [0.046, 0.286, 0.288, 0.993, 0.604, 0.0, 0.368, 0.289, 0.271, 0.887, 0.162, 0.121]\n",
            "Layer 4: [0.799, 0.985, 0.303, 0.797, 0.282, 0.546, 0.305, 0.084, 0.639, 0.499, 0.0, 0.533]\n",
            "Layer 5: [0.59, 0.025, 0.679, 0.44, 0.287, 0.32, 0.748, 0.126, 0.424, 0.979, 0.0, 0.516]\n",
            "Layer 6: [0.644, 0.23, 0.859, 0.66, 0.706, 0.268, 0.965, 0.0, 0.566, 0.948, 0.415, 0.594]\n",
            "Layer 7: [0.544, 0.366, 0.267, 0.731, 0.147, 0.293, 0.822, 0.0, 0.102, 0.619, 0.597, 0.578]\n",
            "Layer 8: [0.377, 0.092, 0.636, 0.428, 0.314, 0.435, 0.351, 0.254, 0.0, 0.709, 0.362, 0.593]\n",
            "Layer 9: [0.317, 0.17, 0.462, 0.215, 0.0, 0.187, 0.039, 0.262, 0.153, 0.623, 0.14, 0.226]\n",
            "Layer 10: [0.248, 0.164, 0.36, 0.069, 0.0, 0.079, 0.132, 0.244, 0.091, 0.43, 0.038, 0.187]\n",
            "Layer 11: [0.288, 0.008, 0.182, 0.706, 0.177, 0.076, 0.0, 0.207, 0.066, 0.66, 0.233, 0.303]\n"
          ]
        },
        {
          "data": {
            "image/png": "[encoded data removed]",
            "text/plain": [
              "<Figure size 1200x600 with 2 Axes>"
            ]
          },
          "metadata": {},
          "output_type": "display_data"
        },
        {
          "name": "stdout",
          "output_type": "stream",
          "text": [
            "\n",
            "=== METAPHOR MODEL ANALYSIS ===\n",
            "\n",
            "=== Analyzing Attention Head Importance for Metaphor ===\n",
            "\n",
            "Metaphor Attention Head Importance (normalized):\n",
            "Layer 0: [0.5, 0.56, 0.219, 0.41, 0.152, 0.385, 0.454, 0.112, 0.997, 0.43, 0.143, 0.0]\n",
            "Layer 1: [0.593, 0.205, 0.291, 0.955, 0.997, 0.168, 0.079, 0.019, 0.76, 0.635, 0.0, 0.066]\n",
            "Layer 2: [0.239, 0.444, 0.593, 0.997, 0.647, 0.229, 0.035, 0.0, 0.342, 0.447, 0.248, 0.362]\n",
            "Layer 3: [0.344, 0.992, 0.137, 0.808, 0.475, 0.258, 0.0, 0.204, 0.638, 0.282, 0.187, 0.469]\n",
            "Layer 4: [0.867, 0.642, 0.221, 0.648, 0.282, 0.347, 0.778, 0.308, 0.975, 0.0, 0.126, 0.395]\n",
            "Layer 5: [0.203, 0.42, 0.251, 0.0, 0.072, 0.751, 0.305, 0.67, 0.064, 0.04, 0.289, 0.975]\n",
            "Layer 6: [0.319, 0.135, 0.697, 0.978, 0.0, 0.5, 0.141, 0.53, 0.433, 0.337, 0.905, 0.771]\n",
            "Layer 7: [0.452, 0.674, 0.683, 0.933, 0.624, 0.69, 0.292, 0.482, 0.947, 0.535, 0.834, 0.0]\n",
            "Layer 8: [0.503, 0.329, 0.0, 0.924, 0.416, 0.62, 0.222, 0.318, 0.437, 0.135, 0.153, 0.219]\n",
            "Layer 9: [0.675, 0.262, 0.145, 0.832, 0.28, 0.617, 0.36, 0.71, 0.693, 0.407, 0.0, 0.484]\n",
            "Layer 10: [0.614, 0.684, 0.123, 0.566, 0.104, 0.462, 0.518, 0.538, 0.659, 0.588, 0.0, 0.771]\n",
            "Layer 11: [0.0, 0.45, 0.265, 0.125, 0.837, 0.248, 0.079, 0.264, 0.54, 0.155, 0.164, 0.254]\n"
          ]
        },
        {
          "data": {
            "image/png": "[encoded data removed]",
            "text/plain": [
              "<Figure size 1200x600 with 2 Axes>"
            ]
          },
          "metadata": {},
          "output_type": "display_data"
        }
      ],
      "source": [
        "# ===============================\n",
        "# 8. ANALYZE MODELS SEPARATELY\n",
        "# ===============================\n",
        "# Import visualization libraries\n",
        "import matplotlib.pyplot as plt\n",
        "import seaborn as sns\n",
        "import numpy as np\n",
        "\n",
        "# Analyze attention head importance for idiom model\n",
        "print(\"\\n=== IDIOM MODEL ANALYSIS ===\")\n",
        "idiom_importance = analyze_attention_importance(idiom_model, idiom_val_loader, \"Idiom\")\n",
        "\n",
        "# Analyze attention head importance for metaphor model\n",
        "print(\"\\n=== METAPHOR MODEL ANALYSIS ===\")\n",
        "metaphor_importance = analyze_attention_importance(metaphor_model, metaphor_val_loader, \"Metaphor\")\n"
      ]
    },
    {
      "cell_type": "code",
      "execution_count": 10,
      "metadata": {
        "colab": {
          "base_uri": "https://localhost:8080/"
        },
        "id": "IeWRCvCg-9Tk",
        "outputId": "d4444a23-ef90-4747-f209-1f2166a8a8ea"
      },
      "outputs": [
        {
          "name": "stdout",
          "output_type": "stream",
          "text": [
            "\n",
            "=== IDIOM MODEL PRUNING ===\n",
            "Idiom Pruning: 12 of 144 heads pruned (8.33%)\n",
            "\n",
            "Idiom Original Model (No Pruning)\n"
          ]
        },
        {
          "name": "stderr",
          "output_type": "stream",
          "text": [
            "BertSdpaSelfAttention is used but `torch.nn.functional.scaled_dot_product_attention` does not support non-absolute `position_embedding_type` or `output_attentions=True` or `head_mask`. Falling back to the manual attention implementation, but specifying the manual implementation will be required from Transformers version v5.0.0 onwards. This warning can be removed using the argument `attn_implementation=\"eager\"` when loading the model.\n"
          ]
        },
        {
          "name": "stdout",
          "output_type": "stream",
          "text": [
            "              precision    recall  f1-score   support\n",
            "\n",
            "   Non-Idiom       0.67      0.70      0.69       434\n",
            "       Idiom       0.88      0.87      0.87      1096\n",
            "\n",
            "    accuracy                           0.82      1530\n",
            "   macro avg       0.78      0.78      0.78      1530\n",
            "weighted avg       0.82      0.82      0.82      1530\n",
            "\n",
            "\n",
            "Idiom Pruned Model (Heads with Importance = 0 Disabled)\n",
            "              precision    recall  f1-score   support\n",
            "\n",
            "   Non-Idiom       0.00      0.00      0.00       434\n",
            "       Idiom       0.72      1.00      0.83      1096\n",
            "\n",
            "    accuracy                           0.72      1530\n",
            "   macro avg       0.36      0.50      0.42      1530\n",
            "weighted avg       0.51      0.72      0.60      1530\n",
            "\n",
            "\n",
            "=== METAPHOR MODEL PRUNING ===\n",
            "Metaphor Pruning: 12 of 144 heads pruned (8.33%)\n",
            "\n",
            "Metaphor Original Model (No Pruning)\n",
            "              precision    recall  f1-score   support\n",
            "\n",
            "Non-Metaphor       0.88      0.70      0.78        20\n",
            "    Metaphor       0.75      0.90      0.82        20\n",
            "\n",
            "    accuracy                           0.80        40\n",
            "   macro avg       0.81      0.80      0.80        40\n",
            "weighted avg       0.81      0.80      0.80        40\n",
            "\n",
            "\n",
            "Metaphor Pruned Model (Heads with Importance = 0 Disabled)\n",
            "              precision    recall  f1-score   support\n",
            "\n",
            "Non-Metaphor       0.50      1.00      0.67        20\n",
            "    Metaphor       0.00      0.00      0.00        20\n",
            "\n",
            "    accuracy                           0.50        40\n",
            "   macro avg       0.25      0.50      0.33        40\n",
            "weighted avg       0.25      0.50      0.33        40\n",
            "\n",
            "\n",
            "=== PRUNING SUMMARY ===\n",
            "Idiom model: 8.33% of attention heads pruned\n",
            "Metaphor model: 8.33% of attention heads pruned\n"
          ]
        }
      ],
      "source": [
        "# ===============================\n",
        "# 9. ATTENTION HEAD PRUNING & EVALUATION (BERT-Only Version)\n",
        "# ===============================\n",
        "def create_importance_matrix(layer_head_importance):\n",
        "    num_layers = max(layer_head_importance.keys()) + 1\n",
        "    num_heads = max(len(v) for v in layer_head_importance.values())\n",
        "    importance_matrix = np.zeros((num_layers, num_heads))\n",
        "\n",
        "    for layer, scores in layer_head_importance.items():\n",
        "        scores = np.array(scores)\n",
        "        scores = (scores - scores.min()) / (scores.max() - scores.min() + 1e-9)  # normalize\n",
        "        importance_matrix[layer, :len(scores)] = scores\n",
        "\n",
        "    return importance_matrix\n",
        "\n",
        "\n",
        "def prune_and_evaluate_model(model, layer_head_importance, test_loader, model_name=\"Model\"):\n",
        "    importance_matrix = create_importance_matrix(layer_head_importance)\n",
        "\n",
        "    # Create head mask: 0 = prune, 1 = keep\n",
        "    head_mask = torch.ones_like(torch.tensor(importance_matrix), dtype=torch.float32)\n",
        "    head_mask[importance_matrix == 0.0] = 0.0\n",
        "    head_mask = head_mask.to(device)\n",
        "\n",
        "    # Count pruning stats\n",
        "    pruned_heads_count = torch.sum(head_mask == 0.0).item()\n",
        "    total_heads = head_mask.numel()\n",
        "    pruning_percentage = (pruned_heads_count / total_heads) * 100\n",
        "\n",
        "    print(f\"{model_name} Pruning: {pruned_heads_count} of {total_heads} heads pruned ({pruning_percentage:.2f}%)\")\n",
        "\n",
        "    # Create pruned BERT-only model\n",
        "    pruned_model = PrunedBERT_Only(head_mask=head_mask, num_classes=2).to(device)\n",
        "\n",
        "    print(f\"\\n{model_name} Original Model (No Pruning)\")\n",
        "    evaluate(model, test_loader, task_type=model_name.lower())\n",
        "\n",
        "    print(f\"\\n{model_name} Pruned Model (Heads with Importance = 0 Disabled)\")\n",
        "    evaluate(pruned_model, test_loader, task_type=model_name.lower())\n",
        "\n",
        "    return pruned_model, pruning_percentage\n",
        "\n",
        "\n",
        "class PrunedBERT_Only(nn.Module):\n",
        "    def __init__(self, head_mask, num_classes=2):\n",
        "        super().__init__()\n",
        "        self.bert = BertModel.from_pretrained(\"bert-base-multilingual-cased\")\n",
        "        self.head_mask = head_mask\n",
        "        self.dropout = nn.Dropout(0.1)\n",
        "        self.fc = nn.Linear(768, num_classes)\n",
        "\n",
        "    def forward(self, input_ids, attention_mask):\n",
        "        outputs = self.bert(\n",
        "            input_ids=input_ids,\n",
        "            attention_mask=attention_mask,\n",
        "            head_mask=self.head_mask\n",
        "        )\n",
        "        pooled = outputs.pooler_output\n",
        "        return self.fc(self.dropout(pooled))\n",
        "\n",
        "\n",
        "# Prune and evaluate idiom model\n",
        "print(\"\\n=== IDIOM MODEL PRUNING ===\")\n",
        "idiom_pruned_model, idiom_pruning_percentage = prune_and_evaluate_model(\n",
        "    idiom_model,\n",
        "    idiom_importance,\n",
        "    idiom_test_loader,\n",
        "    \"Idiom\"\n",
        ")\n",
        "\n",
        "# Prune and evaluate metaphor model\n",
        "print(\"\\n=== METAPHOR MODEL PRUNING ===\")\n",
        "metaphor_pruned_model, metaphor_pruning_percentage = prune_and_evaluate_model(\n",
        "    metaphor_model,\n",
        "    metaphor_importance,\n",
        "    metaphor_test_loader,\n",
        "    \"Metaphor\"\n",
        ")\n",
        "\n",
        "# Print summary\n",
        "print(\"\\n=== PRUNING SUMMARY ===\")\n",
        "print(f\"Idiom model: {idiom_pruning_percentage:.2f}% of attention heads pruned\")\n",
        "print(f\"Metaphor model: {metaphor_pruning_percentage:.2f}% of attention heads pruned\")\n"
      ]
    }
  ],
  "metadata": {
    "accelerator": "GPU",
    "colab": {
      "gpuType": "T4",
      "provenance": []
    },
    "kernelspec": {
      "display_name": "Python 3",
      "name": "python3"
    },
    "language_info": {
      "name": "python"
    },
    "widgets": {
      "application/vnd.jupyter.widget-state+json": {
        "07574356d37142b3b1bce490d8a9c5f1": {
          "model_module": "@jupyter-widgets/controls",
          "model_module_version": "1.5.0",
          "model_name": "HTMLModel",
          "state": {
            "_dom_classes": [],
            "_model_module": "@jupyter-widgets/controls",
            "_model_module_version": "1.5.0",
            "_model_name": "HTMLModel",
            "_view_count": null,
            "_view_module": "@jupyter-widgets/controls",
            "_view_module_version": "1.5.0",
            "_view_name": "HTMLView",
            "description": "",
            "description_tooltip": null,
            "layout": "IPY_MODEL_f9ecce0a56c347aaabfa5c65e851cc66",
            "placeholder": "​",
            "style": "IPY_MODEL_4af2dd1afaa448fa943a5c68dc4949d3",
            "value": " 49.0/49.0 [00:00&lt;00:00, 5.34kB/s]"
          }
        },
        "09e972cc0a33466d8a4d77f6fa783a09": {
          "model_module": "@jupyter-widgets/base",
          "model_module_version": "1.2.0",
          "model_name": "LayoutModel",
          "state": {
            "_model_module": "@jupyter-widgets/base",
            "_model_module_version": "1.2.0",
            "_model_name": "LayoutModel",
            "_view_count": null,
            "_view_module": "@jupyter-widgets/base",
            "_view_module_version": "1.2.0",
            "_view_name": "LayoutView",
            "align_content": null,
            "align_items": null,
            "align_self": null,
            "border": null,
            "bottom": null,
            "display": null,
            "flex": null,
            "flex_flow": null,
            "grid_area": null,
            "grid_auto_columns": null,
            "grid_auto_flow": null,
            "grid_auto_rows": null,
            "grid_column": null,
            "grid_gap": null,
            "grid_row": null,
            "grid_template_areas": null,
            "grid_template_columns": null,
            "grid_template_rows": null,
            "height": null,
            "justify_content": null,
            "justify_items": null,
            "left": null,
            "margin": null,
            "max_height": null,
            "max_width": null,
            "min_height": null,
            "min_width": null,
            "object_fit": null,
            "object_position": null,
            "order": null,
            "overflow": null,
            "overflow_x": null,
            "overflow_y": null,
            "padding": null,
            "right": null,
            "top": null,
            "visibility": null,
            "width": null
          }
        },
        "0c81d3babf1443d0b5ac3f0532c9a226": {
          "model_module": "@jupyter-widgets/base",
          "model_module_version": "1.2.0",
          "model_name": "LayoutModel",
          "state": {
            "_model_module": "@jupyter-widgets/base",
            "_model_module_version": "1.2.0",
            "_model_name": "LayoutModel",
            "_view_count": null,
            "_view_module": "@jupyter-widgets/base",
            "_view_module_version": "1.2.0",
            "_view_name": "LayoutView",
            "align_content": null,
            "align_items": null,
            "align_self": null,
            "border": null,
            "bottom": null,
            "display": null,
            "flex": null,
            "flex_flow": null,
            "grid_area": null,
            "grid_auto_columns": null,
            "grid_auto_flow": null,
            "grid_auto_rows": null,
            "grid_column": null,
            "grid_gap": null,
            "grid_row": null,
            "grid_template_areas": null,
            "grid_template_columns": null,
            "grid_template_rows": null,
            "height": null,
            "justify_content": null,
            "justify_items": null,
            "left": null,
            "margin": null,
            "max_height": null,
            "max_width": null,
            "min_height": null,
            "min_width": null,
            "object_fit": null,
            "object_position": null,
            "order": null,
            "overflow": null,
            "overflow_x": null,
            "overflow_y": null,
            "padding": null,
            "right": null,
            "top": null,
            "visibility": null,
            "width": null
          }
        },
        "0f0c9755ea224d578eb0796c1f7f8b7f": {
          "model_module": "@jupyter-widgets/controls",
          "model_module_version": "1.5.0",
          "model_name": "FloatProgressModel",
          "state": {
            "_dom_classes": [],
            "_model_module": "@jupyter-widgets/controls",
            "_model_module_version": "1.5.0",
            "_model_name": "FloatProgressModel",
            "_view_count": null,
            "_view_module": "@jupyter-widgets/controls",
            "_view_module_version": "1.5.0",
            "_view_name": "ProgressView",
            "bar_style": "success",
            "description": "",
            "description_tooltip": null,
            "layout": "IPY_MODEL_756762a9e61d4dd7a2a700c5f1d2e657",
            "max": 995526,
            "min": 0,
            "orientation": "horizontal",
            "style": "IPY_MODEL_aef6d881b1ed473ca2bba5bb8b97864e",
            "value": 995526
          }
        },
        "0fb1b6a9e099470e8126f5df2312708e": {
          "model_module": "@jupyter-widgets/base",
          "model_module_version": "1.2.0",
          "model_name": "LayoutModel",
          "state": {
            "_model_module": "@jupyter-widgets/base",
            "_model_module_version": "1.2.0",
            "_model_name": "LayoutModel",
            "_view_count": null,
            "_view_module": "@jupyter-widgets/base",
            "_view_module_version": "1.2.0",
            "_view_name": "LayoutView",
            "align_content": null,
            "align_items": null,
            "align_self": null,
            "border": null,
            "bottom": null,
            "display": null,
            "flex": null,
            "flex_flow": null,
            "grid_area": null,
            "grid_auto_columns": null,
            "grid_auto_flow": null,
            "grid_auto_rows": null,
            "grid_column": null,
            "grid_gap": null,
            "grid_row": null,
            "grid_template_areas": null,
            "grid_template_columns": null,
            "grid_template_rows": null,
            "height": null,
            "justify_content": null,
            "justify_items": null,
            "left": null,
            "margin": null,
            "max_height": null,
            "max_width": null,
            "min_height": null,
            "min_width": null,
            "object_fit": null,
            "object_position": null,
            "order": null,
            "overflow": null,
            "overflow_x": null,
            "overflow_y": null,
            "padding": null,
            "right": null,
            "top": null,
            "visibility": null,
            "width": null
          }
        },
        "115ecc23e8504f4a901404f02db357ae": {
          "model_module": "@jupyter-widgets/controls",
          "model_module_version": "1.5.0",
          "model_name": "ProgressStyleModel",
          "state": {
            "_model_module": "@jupyter-widgets/controls",
            "_model_module_version": "1.5.0",
            "_model_name": "ProgressStyleModel",
            "_view_count": null,
            "_view_module": "@jupyter-widgets/base",
            "_view_module_version": "1.2.0",
            "_view_name": "StyleView",
            "bar_color": null,
            "description_width": ""
          }
        },
        "16d594304d474a55957d3b0303c2121d": {
          "model_module": "@jupyter-widgets/base",
          "model_module_version": "1.2.0",
          "model_name": "LayoutModel",
          "state": {
            "_model_module": "@jupyter-widgets/base",
            "_model_module_version": "1.2.0",
            "_model_name": "LayoutModel",
            "_view_count": null,
            "_view_module": "@jupyter-widgets/base",
            "_view_module_version": "1.2.0",
            "_view_name": "LayoutView",
            "align_content": null,
            "align_items": null,
            "align_self": null,
            "border": null,
            "bottom": null,
            "display": null,
            "flex": null,
            "flex_flow": null,
            "grid_area": null,
            "grid_auto_columns": null,
            "grid_auto_flow": null,
            "grid_auto_rows": null,
            "grid_column": null,
            "grid_gap": null,
            "grid_row": null,
            "grid_template_areas": null,
            "grid_template_columns": null,
            "grid_template_rows": null,
            "height": null,
            "justify_content": null,
            "justify_items": null,
            "left": null,
            "margin": null,
            "max_height": null,
            "max_width": null,
            "min_height": null,
            "min_width": null,
            "object_fit": null,
            "object_position": null,
            "order": null,
            "overflow": null,
            "overflow_x": null,
            "overflow_y": null,
            "padding": null,
            "right": null,
            "top": null,
            "visibility": null,
            "width": null
          }
        },
        "17a74c71a5414301a89cf515a6c08b91": {
          "model_module": "@jupyter-widgets/controls",
          "model_module_version": "1.5.0",
          "model_name": "HTMLModel",
          "state": {
            "_dom_classes": [],
            "_model_module": "@jupyter-widgets/controls",
            "_model_module_version": "1.5.0",
            "_model_name": "HTMLModel",
            "_view_count": null,
            "_view_module": "@jupyter-widgets/controls",
            "_view_module_version": "1.5.0",
            "_view_name": "HTMLView",
            "description": "",
            "description_tooltip": null,
            "layout": "IPY_MODEL_baee46b063534bcdbaa28db12bfb6d39",
            "placeholder": "​",
            "style": "IPY_MODEL_aa7e7749c7c94d048b370c7df6f4cebb",
            "value": "tokenizer.json: 100%"
          }
        },
        "2d1dde0aac6545f6be0b9c5b0e932d84": {
          "model_module": "@jupyter-widgets/base",
          "model_module_version": "1.2.0",
          "model_name": "LayoutModel",
          "state": {
            "_model_module": "@jupyter-widgets/base",
            "_model_module_version": "1.2.0",
            "_model_name": "LayoutModel",
            "_view_count": null,
            "_view_module": "@jupyter-widgets/base",
            "_view_module_version": "1.2.0",
            "_view_name": "LayoutView",
            "align_content": null,
            "align_items": null,
            "align_self": null,
            "border": null,
            "bottom": null,
            "display": null,
            "flex": null,
            "flex_flow": null,
            "grid_area": null,
            "grid_auto_columns": null,
            "grid_auto_flow": null,
            "grid_auto_rows": null,
            "grid_column": null,
            "grid_gap": null,
            "grid_row": null,
            "grid_template_areas": null,
            "grid_template_columns": null,
            "grid_template_rows": null,
            "height": null,
            "justify_content": null,
            "justify_items": null,
            "left": null,
            "margin": null,
            "max_height": null,
            "max_width": null,
            "min_height": null,
            "min_width": null,
            "object_fit": null,
            "object_position": null,
            "order": null,
            "overflow": null,
            "overflow_x": null,
            "overflow_y": null,
            "padding": null,
            "right": null,
            "top": null,
            "visibility": null,
            "width": null
          }
        },
        "3f25e1101383453fa79dea8c70af9cd7": {
          "model_module": "@jupyter-widgets/controls",
          "model_module_version": "1.5.0",
          "model_name": "HTMLModel",
          "state": {
            "_dom_classes": [],
            "_model_module": "@jupyter-widgets/controls",
            "_model_module_version": "1.5.0",
            "_model_name": "HTMLModel",
            "_view_count": null,
            "_view_module": "@jupyter-widgets/controls",
            "_view_module_version": "1.5.0",
            "_view_name": "HTMLView",
            "description": "",
            "description_tooltip": null,
            "layout": "IPY_MODEL_6b6e5f7a202c43e6ba76e212202f113c",
            "placeholder": "​",
            "style": "IPY_MODEL_44df5cfbc07340c7925615f32b914c89",
            "value": " 996k/996k [00:00&lt;00:00, 17.5MB/s]"
          }
        },
        "44df5cfbc07340c7925615f32b914c89": {
          "model_module": "@jupyter-widgets/controls",
          "model_module_version": "1.5.0",
          "model_name": "DescriptionStyleModel",
          "state": {
            "_model_module": "@jupyter-widgets/controls",
            "_model_module_version": "1.5.0",
            "_model_name": "DescriptionStyleModel",
            "_view_count": null,
            "_view_module": "@jupyter-widgets/base",
            "_view_module_version": "1.2.0",
            "_view_name": "StyleView",
            "description_width": ""
          }
        },
        "4655dc011c9c41e783f4048f3871caad": {
          "model_module": "@jupyter-widgets/controls",
          "model_module_version": "1.5.0",
          "model_name": "DescriptionStyleModel",
          "state": {
            "_model_module": "@jupyter-widgets/controls",
            "_model_module_version": "1.5.0",
            "_model_name": "DescriptionStyleModel",
            "_view_count": null,
            "_view_module": "@jupyter-widgets/base",
            "_view_module_version": "1.2.0",
            "_view_name": "StyleView",
            "description_width": ""
          }
        },
        "484b77a55361498daa84dcbfa9e352e2": {
          "model_module": "@jupyter-widgets/base",
          "model_module_version": "1.2.0",
          "model_name": "LayoutModel",
          "state": {
            "_model_module": "@jupyter-widgets/base",
            "_model_module_version": "1.2.0",
            "_model_name": "LayoutModel",
            "_view_count": null,
            "_view_module": "@jupyter-widgets/base",
            "_view_module_version": "1.2.0",
            "_view_name": "LayoutView",
            "align_content": null,
            "align_items": null,
            "align_self": null,
            "border": null,
            "bottom": null,
            "display": null,
            "flex": null,
            "flex_flow": null,
            "grid_area": null,
            "grid_auto_columns": null,
            "grid_auto_flow": null,
            "grid_auto_rows": null,
            "grid_column": null,
            "grid_gap": null,
            "grid_row": null,
            "grid_template_areas": null,
            "grid_template_columns": null,
            "grid_template_rows": null,
            "height": null,
            "justify_content": null,
            "justify_items": null,
            "left": null,
            "margin": null,
            "max_height": null,
            "max_width": null,
            "min_height": null,
            "min_width": null,
            "object_fit": null,
            "object_position": null,
            "order": null,
            "overflow": null,
            "overflow_x": null,
            "overflow_y": null,
            "padding": null,
            "right": null,
            "top": null,
            "visibility": null,
            "width": null
          }
        },
        "4af2dd1afaa448fa943a5c68dc4949d3": {
          "model_module": "@jupyter-widgets/controls",
          "model_module_version": "1.5.0",
          "model_name": "DescriptionStyleModel",
          "state": {
            "_model_module": "@jupyter-widgets/controls",
            "_model_module_version": "1.5.0",
            "_model_name": "DescriptionStyleModel",
            "_view_count": null,
            "_view_module": "@jupyter-widgets/base",
            "_view_module_version": "1.2.0",
            "_view_name": "StyleView",
            "description_width": ""
          }
        },
        "51dc671e8dba44618bacaf64853af069": {
          "model_module": "@jupyter-widgets/controls",
          "model_module_version": "1.5.0",
          "model_name": "FloatProgressModel",
          "state": {
            "_dom_classes": [],
            "_model_module": "@jupyter-widgets/controls",
            "_model_module_version": "1.5.0",
            "_model_name": "FloatProgressModel",
            "_view_count": null,
            "_view_module": "@jupyter-widgets/controls",
            "_view_module_version": "1.5.0",
            "_view_name": "ProgressView",
            "bar_style": "success",
            "description": "",
            "description_tooltip": null,
            "layout": "IPY_MODEL_16d594304d474a55957d3b0303c2121d",
            "max": 625,
            "min": 0,
            "orientation": "horizontal",
            "style": "IPY_MODEL_eee384780557499989515b7d3a3475f2",
            "value": 625
          }
        },
        "54d541048beb4bca90035c13fbaaaad8": {
          "model_module": "@jupyter-widgets/controls",
          "model_module_version": "1.5.0",
          "model_name": "HTMLModel",
          "state": {
            "_dom_classes": [],
            "_model_module": "@jupyter-widgets/controls",
            "_model_module_version": "1.5.0",
            "_model_name": "HTMLModel",
            "_view_count": null,
            "_view_module": "@jupyter-widgets/controls",
            "_view_module_version": "1.5.0",
            "_view_name": "HTMLView",
            "description": "",
            "description_tooltip": null,
            "layout": "IPY_MODEL_2d1dde0aac6545f6be0b9c5b0e932d84",
            "placeholder": "​",
            "style": "IPY_MODEL_72e6b9f5bf1347a19a8610991a5e42e1",
            "value": "config.json: 100%"
          }
        },
        "59115b41a8d749c29b646e31267811b7": {
          "model_module": "@jupyter-widgets/controls",
          "model_module_version": "1.5.0",
          "model_name": "HTMLModel",
          "state": {
            "_dom_classes": [],
            "_model_module": "@jupyter-widgets/controls",
            "_model_module_version": "1.5.0",
            "_model_name": "HTMLModel",
            "_view_count": null,
            "_view_module": "@jupyter-widgets/controls",
            "_view_module_version": "1.5.0",
            "_view_name": "HTMLView",
            "description": "",
            "description_tooltip": null,
            "layout": "IPY_MODEL_e51386cc955c4986b9065d3e0ef27696",
            "placeholder": "​",
            "style": "IPY_MODEL_896c2063cd0e49f48ec32dc208c6c04f",
            "value": " 625/625 [00:00&lt;00:00, 59.6kB/s]"
          }
        },
        "60b93889d3674e53a29ef27d68154bda": {
          "model_module": "@jupyter-widgets/base",
          "model_module_version": "1.2.0",
          "model_name": "LayoutModel",
          "state": {
            "_model_module": "@jupyter-widgets/base",
            "_model_module_version": "1.2.0",
            "_model_name": "LayoutModel",
            "_view_count": null,
            "_view_module": "@jupyter-widgets/base",
            "_view_module_version": "1.2.0",
            "_view_name": "LayoutView",
            "align_content": null,
            "align_items": null,
            "align_self": null,
            "border": null,
            "bottom": null,
            "display": null,
            "flex": null,
            "flex_flow": null,
            "grid_area": null,
            "grid_auto_columns": null,
            "grid_auto_flow": null,
            "grid_auto_rows": null,
            "grid_column": null,
            "grid_gap": null,
            "grid_row": null,
            "grid_template_areas": null,
            "grid_template_columns": null,
            "grid_template_rows": null,
            "height": null,
            "justify_content": null,
            "justify_items": null,
            "left": null,
            "margin": null,
            "max_height": null,
            "max_width": null,
            "min_height": null,
            "min_width": null,
            "object_fit": null,
            "object_position": null,
            "order": null,
            "overflow": null,
            "overflow_x": null,
            "overflow_y": null,
            "padding": null,
            "right": null,
            "top": null,
            "visibility": null,
            "width": null
          }
        },
        "62e9c1584779436683dddbd54a639e70": {
          "model_module": "@jupyter-widgets/controls",
          "model_module_version": "1.5.0",
          "model_name": "DescriptionStyleModel",
          "state": {
            "_model_module": "@jupyter-widgets/controls",
            "_model_module_version": "1.5.0",
            "_model_name": "DescriptionStyleModel",
            "_view_count": null,
            "_view_module": "@jupyter-widgets/base",
            "_view_module_version": "1.2.0",
            "_view_name": "StyleView",
            "description_width": ""
          }
        },
        "6b6e5f7a202c43e6ba76e212202f113c": {
          "model_module": "@jupyter-widgets/base",
          "model_module_version": "1.2.0",
          "model_name": "LayoutModel",
          "state": {
            "_model_module": "@jupyter-widgets/base",
            "_model_module_version": "1.2.0",
            "_model_name": "LayoutModel",
            "_view_count": null,
            "_view_module": "@jupyter-widgets/base",
            "_view_module_version": "1.2.0",
            "_view_name": "LayoutView",
            "align_content": null,
            "align_items": null,
            "align_self": null,
            "border": null,
            "bottom": null,
            "display": null,
            "flex": null,
            "flex_flow": null,
            "grid_area": null,
            "grid_auto_columns": null,
            "grid_auto_flow": null,
            "grid_auto_rows": null,
            "grid_column": null,
            "grid_gap": null,
            "grid_row": null,
            "grid_template_areas": null,
            "grid_template_columns": null,
            "grid_template_rows": null,
            "height": null,
            "justify_content": null,
            "justify_items": null,
            "left": null,
            "margin": null,
            "max_height": null,
            "max_width": null,
            "min_height": null,
            "min_width": null,
            "object_fit": null,
            "object_position": null,
            "order": null,
            "overflow": null,
            "overflow_x": null,
            "overflow_y": null,
            "padding": null,
            "right": null,
            "top": null,
            "visibility": null,
            "width": null
          }
        },
        "72e6b9f5bf1347a19a8610991a5e42e1": {
          "model_module": "@jupyter-widgets/controls",
          "model_module_version": "1.5.0",
          "model_name": "DescriptionStyleModel",
          "state": {
            "_model_module": "@jupyter-widgets/controls",
            "_model_module_version": "1.5.0",
            "_model_name": "DescriptionStyleModel",
            "_view_count": null,
            "_view_module": "@jupyter-widgets/base",
            "_view_module_version": "1.2.0",
            "_view_name": "StyleView",
            "description_width": ""
          }
        },
        "756762a9e61d4dd7a2a700c5f1d2e657": {
          "model_module": "@jupyter-widgets/base",
          "model_module_version": "1.2.0",
          "model_name": "LayoutModel",
          "state": {
            "_model_module": "@jupyter-widgets/base",
            "_model_module_version": "1.2.0",
            "_model_name": "LayoutModel",
            "_view_count": null,
            "_view_module": "@jupyter-widgets/base",
            "_view_module_version": "1.2.0",
            "_view_name": "LayoutView",
            "align_content": null,
            "align_items": null,
            "align_self": null,
            "border": null,
            "bottom": null,
            "display": null,
            "flex": null,
            "flex_flow": null,
            "grid_area": null,
            "grid_auto_columns": null,
            "grid_auto_flow": null,
            "grid_auto_rows": null,
            "grid_column": null,
            "grid_gap": null,
            "grid_row": null,
            "grid_template_areas": null,
            "grid_template_columns": null,
            "grid_template_rows": null,
            "height": null,
            "justify_content": null,
            "justify_items": null,
            "left": null,
            "margin": null,
            "max_height": null,
            "max_width": null,
            "min_height": null,
            "min_width": null,
            "object_fit": null,
            "object_position": null,
            "order": null,
            "overflow": null,
            "overflow_x": null,
            "overflow_y": null,
            "padding": null,
            "right": null,
            "top": null,
            "visibility": null,
            "width": null
          }
        },
        "8175f8464c9647589e4868bac9bafa68": {
          "model_module": "@jupyter-widgets/base",
          "model_module_version": "1.2.0",
          "model_name": "LayoutModel",
          "state": {
            "_model_module": "@jupyter-widgets/base",
            "_model_module_version": "1.2.0",
            "_model_name": "LayoutModel",
            "_view_count": null,
            "_view_module": "@jupyter-widgets/base",
            "_view_module_version": "1.2.0",
            "_view_name": "LayoutView",
            "align_content": null,
            "align_items": null,
            "align_self": null,
            "border": null,
            "bottom": null,
            "display": null,
            "flex": null,
            "flex_flow": null,
            "grid_area": null,
            "grid_auto_columns": null,
            "grid_auto_flow": null,
            "grid_auto_rows": null,
            "grid_column": null,
            "grid_gap": null,
            "grid_row": null,
            "grid_template_areas": null,
            "grid_template_columns": null,
            "grid_template_rows": null,
            "height": null,
            "justify_content": null,
            "justify_items": null,
            "left": null,
            "margin": null,
            "max_height": null,
            "max_width": null,
            "min_height": null,
            "min_width": null,
            "object_fit": null,
            "object_position": null,
            "order": null,
            "overflow": null,
            "overflow_x": null,
            "overflow_y": null,
            "padding": null,
            "right": null,
            "top": null,
            "visibility": null,
            "width": null
          }
        },
        "896c2063cd0e49f48ec32dc208c6c04f": {
          "model_module": "@jupyter-widgets/controls",
          "model_module_version": "1.5.0",
          "model_name": "DescriptionStyleModel",
          "state": {
            "_model_module": "@jupyter-widgets/controls",
            "_model_module_version": "1.5.0",
            "_model_name": "DescriptionStyleModel",
            "_view_count": null,
            "_view_module": "@jupyter-widgets/base",
            "_view_module_version": "1.2.0",
            "_view_name": "StyleView",
            "description_width": ""
          }
        },
        "8b35fdfd31fd438282d0a63ff1943e23": {
          "model_module": "@jupyter-widgets/controls",
          "model_module_version": "1.5.0",
          "model_name": "HTMLModel",
          "state": {
            "_dom_classes": [],
            "_model_module": "@jupyter-widgets/controls",
            "_model_module_version": "1.5.0",
            "_model_name": "HTMLModel",
            "_view_count": null,
            "_view_module": "@jupyter-widgets/controls",
            "_view_module_version": "1.5.0",
            "_view_name": "HTMLView",
            "description": "",
            "description_tooltip": null,
            "layout": "IPY_MODEL_e89e0c247514429d82412fc51ec3eee5",
            "placeholder": "​",
            "style": "IPY_MODEL_e98657a0646f45a893ad5522235f1198",
            "value": "tokenizer_config.json: 100%"
          }
        },
        "8c146705e8c64bd28de6b8b22f892ca4": {
          "model_module": "@jupyter-widgets/controls",
          "model_module_version": "1.5.0",
          "model_name": "FloatProgressModel",
          "state": {
            "_dom_classes": [],
            "_model_module": "@jupyter-widgets/controls",
            "_model_module_version": "1.5.0",
            "_model_name": "FloatProgressModel",
            "_view_count": null,
            "_view_module": "@jupyter-widgets/controls",
            "_view_module_version": "1.5.0",
            "_view_name": "ProgressView",
            "bar_style": "success",
            "description": "",
            "description_tooltip": null,
            "layout": "IPY_MODEL_09e972cc0a33466d8a4d77f6fa783a09",
            "max": 49,
            "min": 0,
            "orientation": "horizontal",
            "style": "IPY_MODEL_a1159a2ea1e947bcb353fbbd1540de0b",
            "value": 49
          }
        },
        "905c54c4fade42fa8d027787ade7cff8": {
          "model_module": "@jupyter-widgets/base",
          "model_module_version": "1.2.0",
          "model_name": "LayoutModel",
          "state": {
            "_model_module": "@jupyter-widgets/base",
            "_model_module_version": "1.2.0",
            "_model_name": "LayoutModel",
            "_view_count": null,
            "_view_module": "@jupyter-widgets/base",
            "_view_module_version": "1.2.0",
            "_view_name": "LayoutView",
            "align_content": null,
            "align_items": null,
            "align_self": null,
            "border": null,
            "bottom": null,
            "display": null,
            "flex": null,
            "flex_flow": null,
            "grid_area": null,
            "grid_auto_columns": null,
            "grid_auto_flow": null,
            "grid_auto_rows": null,
            "grid_column": null,
            "grid_gap": null,
            "grid_row": null,
            "grid_template_areas": null,
            "grid_template_columns": null,
            "grid_template_rows": null,
            "height": null,
            "justify_content": null,
            "justify_items": null,
            "left": null,
            "margin": null,
            "max_height": null,
            "max_width": null,
            "min_height": null,
            "min_width": null,
            "object_fit": null,
            "object_position": null,
            "order": null,
            "overflow": null,
            "overflow_x": null,
            "overflow_y": null,
            "padding": null,
            "right": null,
            "top": null,
            "visibility": null,
            "width": null
          }
        },
        "a1159a2ea1e947bcb353fbbd1540de0b": {
          "model_module": "@jupyter-widgets/controls",
          "model_module_version": "1.5.0",
          "model_name": "ProgressStyleModel",
          "state": {
            "_model_module": "@jupyter-widgets/controls",
            "_model_module_version": "1.5.0",
            "_model_name": "ProgressStyleModel",
            "_view_count": null,
            "_view_module": "@jupyter-widgets/base",
            "_view_module_version": "1.2.0",
            "_view_name": "StyleView",
            "bar_color": null,
            "description_width": ""
          }
        },
        "a80cbd9bf0b544d4b69415ace3023300": {
          "model_module": "@jupyter-widgets/controls",
          "model_module_version": "1.5.0",
          "model_name": "DescriptionStyleModel",
          "state": {
            "_model_module": "@jupyter-widgets/controls",
            "_model_module_version": "1.5.0",
            "_model_name": "DescriptionStyleModel",
            "_view_count": null,
            "_view_module": "@jupyter-widgets/base",
            "_view_module_version": "1.2.0",
            "_view_name": "StyleView",
            "description_width": ""
          }
        },
        "aa7e7749c7c94d048b370c7df6f4cebb": {
          "model_module": "@jupyter-widgets/controls",
          "model_module_version": "1.5.0",
          "model_name": "DescriptionStyleModel",
          "state": {
            "_model_module": "@jupyter-widgets/controls",
            "_model_module_version": "1.5.0",
            "_model_name": "DescriptionStyleModel",
            "_view_count": null,
            "_view_module": "@jupyter-widgets/base",
            "_view_module_version": "1.2.0",
            "_view_name": "StyleView",
            "description_width": ""
          }
        },
        "ab0eff8d2723464cab1a08a8222f0394": {
          "model_module": "@jupyter-widgets/base",
          "model_module_version": "1.2.0",
          "model_name": "LayoutModel",
          "state": {
            "_model_module": "@jupyter-widgets/base",
            "_model_module_version": "1.2.0",
            "_model_name": "LayoutModel",
            "_view_count": null,
            "_view_module": "@jupyter-widgets/base",
            "_view_module_version": "1.2.0",
            "_view_name": "LayoutView",
            "align_content": null,
            "align_items": null,
            "align_self": null,
            "border": null,
            "bottom": null,
            "display": null,
            "flex": null,
            "flex_flow": null,
            "grid_area": null,
            "grid_auto_columns": null,
            "grid_auto_flow": null,
            "grid_auto_rows": null,
            "grid_column": null,
            "grid_gap": null,
            "grid_row": null,
            "grid_template_areas": null,
            "grid_template_columns": null,
            "grid_template_rows": null,
            "height": null,
            "justify_content": null,
            "justify_items": null,
            "left": null,
            "margin": null,
            "max_height": null,
            "max_width": null,
            "min_height": null,
            "min_width": null,
            "object_fit": null,
            "object_position": null,
            "order": null,
            "overflow": null,
            "overflow_x": null,
            "overflow_y": null,
            "padding": null,
            "right": null,
            "top": null,
            "visibility": null,
            "width": null
          }
        },
        "ab2e628d5d0c43daaa5e3eabfbf4278d": {
          "model_module": "@jupyter-widgets/controls",
          "model_module_version": "1.5.0",
          "model_name": "HTMLModel",
          "state": {
            "_dom_classes": [],
            "_model_module": "@jupyter-widgets/controls",
            "_model_module_version": "1.5.0",
            "_model_name": "HTMLModel",
            "_view_count": null,
            "_view_module": "@jupyter-widgets/controls",
            "_view_module_version": "1.5.0",
            "_view_name": "HTMLView",
            "description": "",
            "description_tooltip": null,
            "layout": "IPY_MODEL_df8b2cb25e1c43728439ed757f707bd8",
            "placeholder": "​",
            "style": "IPY_MODEL_fa2545e7c35b4459bf000d0380713c9e",
            "value": " 1.96M/1.96M [00:00&lt;00:00, 7.90MB/s]"
          }
        },
        "aef6d881b1ed473ca2bba5bb8b97864e": {
          "model_module": "@jupyter-widgets/controls",
          "model_module_version": "1.5.0",
          "model_name": "ProgressStyleModel",
          "state": {
            "_model_module": "@jupyter-widgets/controls",
            "_model_module_version": "1.5.0",
            "_model_name": "ProgressStyleModel",
            "_view_count": null,
            "_view_module": "@jupyter-widgets/base",
            "_view_module_version": "1.2.0",
            "_view_name": "StyleView",
            "bar_color": null,
            "description_width": ""
          }
        },
        "afc48ea94d4742cf8ff1497a727bf5d6": {
          "model_module": "@jupyter-widgets/controls",
          "model_module_version": "1.5.0",
          "model_name": "ProgressStyleModel",
          "state": {
            "_model_module": "@jupyter-widgets/controls",
            "_model_module_version": "1.5.0",
            "_model_name": "ProgressStyleModel",
            "_view_count": null,
            "_view_module": "@jupyter-widgets/base",
            "_view_module_version": "1.2.0",
            "_view_name": "StyleView",
            "bar_color": null,
            "description_width": ""
          }
        },
        "b41422873d56475ea1514a24e7db3288": {
          "model_module": "@jupyter-widgets/controls",
          "model_module_version": "1.5.0",
          "model_name": "HTMLModel",
          "state": {
            "_dom_classes": [],
            "_model_module": "@jupyter-widgets/controls",
            "_model_module_version": "1.5.0",
            "_model_name": "HTMLModel",
            "_view_count": null,
            "_view_module": "@jupyter-widgets/controls",
            "_view_module_version": "1.5.0",
            "_view_name": "HTMLView",
            "description": "",
            "description_tooltip": null,
            "layout": "IPY_MODEL_0c81d3babf1443d0b5ac3f0532c9a226",
            "placeholder": "​",
            "style": "IPY_MODEL_62e9c1584779436683dddbd54a639e70",
            "value": "vocab.txt: 100%"
          }
        },
        "baee46b063534bcdbaa28db12bfb6d39": {
          "model_module": "@jupyter-widgets/base",
          "model_module_version": "1.2.0",
          "model_name": "LayoutModel",
          "state": {
            "_model_module": "@jupyter-widgets/base",
            "_model_module_version": "1.2.0",
            "_model_name": "LayoutModel",
            "_view_count": null,
            "_view_module": "@jupyter-widgets/base",
            "_view_module_version": "1.2.0",
            "_view_name": "LayoutView",
            "align_content": null,
            "align_items": null,
            "align_self": null,
            "border": null,
            "bottom": null,
            "display": null,
            "flex": null,
            "flex_flow": null,
            "grid_area": null,
            "grid_auto_columns": null,
            "grid_auto_flow": null,
            "grid_auto_rows": null,
            "grid_column": null,
            "grid_gap": null,
            "grid_row": null,
            "grid_template_areas": null,
            "grid_template_columns": null,
            "grid_template_rows": null,
            "height": null,
            "justify_content": null,
            "justify_items": null,
            "left": null,
            "margin": null,
            "max_height": null,
            "max_width": null,
            "min_height": null,
            "min_width": null,
            "object_fit": null,
            "object_position": null,
            "order": null,
            "overflow": null,
            "overflow_x": null,
            "overflow_y": null,
            "padding": null,
            "right": null,
            "top": null,
            "visibility": null,
            "width": null
          }
        },
        "c814ecca8fbd4e0cab3632f661dc08bd": {
          "model_module": "@jupyter-widgets/controls",
          "model_module_version": "1.5.0",
          "model_name": "HBoxModel",
          "state": {
            "_dom_classes": [],
            "_model_module": "@jupyter-widgets/controls",
            "_model_module_version": "1.5.0",
            "_model_name": "HBoxModel",
            "_view_count": null,
            "_view_module": "@jupyter-widgets/controls",
            "_view_module_version": "1.5.0",
            "_view_name": "HBoxView",
            "box_style": "",
            "children": [
              "IPY_MODEL_17a74c71a5414301a89cf515a6c08b91",
              "IPY_MODEL_e55a0d79d0c4448db5cbd225217f6275",
              "IPY_MODEL_ab2e628d5d0c43daaa5e3eabfbf4278d"
            ],
            "layout": "IPY_MODEL_484b77a55361498daa84dcbfa9e352e2"
          }
        },
        "ce112f424a574ba2849d314c0dd04a4a": {
          "model_module": "@jupyter-widgets/base",
          "model_module_version": "1.2.0",
          "model_name": "LayoutModel",
          "state": {
            "_model_module": "@jupyter-widgets/base",
            "_model_module_version": "1.2.0",
            "_model_name": "LayoutModel",
            "_view_count": null,
            "_view_module": "@jupyter-widgets/base",
            "_view_module_version": "1.2.0",
            "_view_name": "LayoutView",
            "align_content": null,
            "align_items": null,
            "align_self": null,
            "border": null,
            "bottom": null,
            "display": null,
            "flex": null,
            "flex_flow": null,
            "grid_area": null,
            "grid_auto_columns": null,
            "grid_auto_flow": null,
            "grid_auto_rows": null,
            "grid_column": null,
            "grid_gap": null,
            "grid_row": null,
            "grid_template_areas": null,
            "grid_template_columns": null,
            "grid_template_rows": null,
            "height": null,
            "justify_content": null,
            "justify_items": null,
            "left": null,
            "margin": null,
            "max_height": null,
            "max_width": null,
            "min_height": null,
            "min_width": null,
            "object_fit": null,
            "object_position": null,
            "order": null,
            "overflow": null,
            "overflow_x": null,
            "overflow_y": null,
            "padding": null,
            "right": null,
            "top": null,
            "visibility": null,
            "width": null
          }
        },
        "d3b396f9208d45e0a3b71ba3ea68a06f": {
          "model_module": "@jupyter-widgets/base",
          "model_module_version": "1.2.0",
          "model_name": "LayoutModel",
          "state": {
            "_model_module": "@jupyter-widgets/base",
            "_model_module_version": "1.2.0",
            "_model_name": "LayoutModel",
            "_view_count": null,
            "_view_module": "@jupyter-widgets/base",
            "_view_module_version": "1.2.0",
            "_view_name": "LayoutView",
            "align_content": null,
            "align_items": null,
            "align_self": null,
            "border": null,
            "bottom": null,
            "display": null,
            "flex": null,
            "flex_flow": null,
            "grid_area": null,
            "grid_auto_columns": null,
            "grid_auto_flow": null,
            "grid_auto_rows": null,
            "grid_column": null,
            "grid_gap": null,
            "grid_row": null,
            "grid_template_areas": null,
            "grid_template_columns": null,
            "grid_template_rows": null,
            "height": null,
            "justify_content": null,
            "justify_items": null,
            "left": null,
            "margin": null,
            "max_height": null,
            "max_width": null,
            "min_height": null,
            "min_width": null,
            "object_fit": null,
            "object_position": null,
            "order": null,
            "overflow": null,
            "overflow_x": null,
            "overflow_y": null,
            "padding": null,
            "right": null,
            "top": null,
            "visibility": null,
            "width": null
          }
        },
        "d6eff32ecf9b42ee8d6cb824a44d6bbc": {
          "model_module": "@jupyter-widgets/controls",
          "model_module_version": "1.5.0",
          "model_name": "HBoxModel",
          "state": {
            "_dom_classes": [],
            "_model_module": "@jupyter-widgets/controls",
            "_model_module_version": "1.5.0",
            "_model_name": "HBoxModel",
            "_view_count": null,
            "_view_module": "@jupyter-widgets/controls",
            "_view_module_version": "1.5.0",
            "_view_name": "HBoxView",
            "box_style": "",
            "children": [
              "IPY_MODEL_b41422873d56475ea1514a24e7db3288",
              "IPY_MODEL_0f0c9755ea224d578eb0796c1f7f8b7f",
              "IPY_MODEL_3f25e1101383453fa79dea8c70af9cd7"
            ],
            "layout": "IPY_MODEL_ab0eff8d2723464cab1a08a8222f0394"
          }
        },
        "df1b7faa90f94d5db02af9a1d76b7b94": {
          "model_module": "@jupyter-widgets/controls",
          "model_module_version": "1.5.0",
          "model_name": "HBoxModel",
          "state": {
            "_dom_classes": [],
            "_model_module": "@jupyter-widgets/controls",
            "_model_module_version": "1.5.0",
            "_model_name": "HBoxModel",
            "_view_count": null,
            "_view_module": "@jupyter-widgets/controls",
            "_view_module_version": "1.5.0",
            "_view_name": "HBoxView",
            "box_style": "",
            "children": [
              "IPY_MODEL_8b35fdfd31fd438282d0a63ff1943e23",
              "IPY_MODEL_8c146705e8c64bd28de6b8b22f892ca4",
              "IPY_MODEL_07574356d37142b3b1bce490d8a9c5f1"
            ],
            "layout": "IPY_MODEL_fe448a8998e749e5b2d0da7bc7c160ca"
          }
        },
        "df8b2cb25e1c43728439ed757f707bd8": {
          "model_module": "@jupyter-widgets/base",
          "model_module_version": "1.2.0",
          "model_name": "LayoutModel",
          "state": {
            "_model_module": "@jupyter-widgets/base",
            "_model_module_version": "1.2.0",
            "_model_name": "LayoutModel",
            "_view_count": null,
            "_view_module": "@jupyter-widgets/base",
            "_view_module_version": "1.2.0",
            "_view_name": "LayoutView",
            "align_content": null,
            "align_items": null,
            "align_self": null,
            "border": null,
            "bottom": null,
            "display": null,
            "flex": null,
            "flex_flow": null,
            "grid_area": null,
            "grid_auto_columns": null,
            "grid_auto_flow": null,
            "grid_auto_rows": null,
            "grid_column": null,
            "grid_gap": null,
            "grid_row": null,
            "grid_template_areas": null,
            "grid_template_columns": null,
            "grid_template_rows": null,
            "height": null,
            "justify_content": null,
            "justify_items": null,
            "left": null,
            "margin": null,
            "max_height": null,
            "max_width": null,
            "min_height": null,
            "min_width": null,
            "object_fit": null,
            "object_position": null,
            "order": null,
            "overflow": null,
            "overflow_x": null,
            "overflow_y": null,
            "padding": null,
            "right": null,
            "top": null,
            "visibility": null,
            "width": null
          }
        },
        "df9c4abfb2624709b45c82e67a12bdb3": {
          "model_module": "@jupyter-widgets/controls",
          "model_module_version": "1.5.0",
          "model_name": "HTMLModel",
          "state": {
            "_dom_classes": [],
            "_model_module": "@jupyter-widgets/controls",
            "_model_module_version": "1.5.0",
            "_model_name": "HTMLModel",
            "_view_count": null,
            "_view_module": "@jupyter-widgets/controls",
            "_view_module_version": "1.5.0",
            "_view_name": "HTMLView",
            "description": "",
            "description_tooltip": null,
            "layout": "IPY_MODEL_905c54c4fade42fa8d027787ade7cff8",
            "placeholder": "​",
            "style": "IPY_MODEL_a80cbd9bf0b544d4b69415ace3023300",
            "value": " 714M/714M [00:10&lt;00:00, 98.0MB/s]"
          }
        },
        "e443cff2f3b14fab9e4437201857a7c5": {
          "model_module": "@jupyter-widgets/controls",
          "model_module_version": "1.5.0",
          "model_name": "HBoxModel",
          "state": {
            "_dom_classes": [],
            "_model_module": "@jupyter-widgets/controls",
            "_model_module_version": "1.5.0",
            "_model_name": "HBoxModel",
            "_view_count": null,
            "_view_module": "@jupyter-widgets/controls",
            "_view_module_version": "1.5.0",
            "_view_name": "HBoxView",
            "box_style": "",
            "children": [
              "IPY_MODEL_e75c63ee1cfc481eab4fce7ba04d2e17",
              "IPY_MODEL_f9b04c67dd254acda9aeee45919717d5",
              "IPY_MODEL_df9c4abfb2624709b45c82e67a12bdb3"
            ],
            "layout": "IPY_MODEL_d3b396f9208d45e0a3b71ba3ea68a06f"
          }
        },
        "e51386cc955c4986b9065d3e0ef27696": {
          "model_module": "@jupyter-widgets/base",
          "model_module_version": "1.2.0",
          "model_name": "LayoutModel",
          "state": {
            "_model_module": "@jupyter-widgets/base",
            "_model_module_version": "1.2.0",
            "_model_name": "LayoutModel",
            "_view_count": null,
            "_view_module": "@jupyter-widgets/base",
            "_view_module_version": "1.2.0",
            "_view_name": "LayoutView",
            "align_content": null,
            "align_items": null,
            "align_self": null,
            "border": null,
            "bottom": null,
            "display": null,
            "flex": null,
            "flex_flow": null,
            "grid_area": null,
            "grid_auto_columns": null,
            "grid_auto_flow": null,
            "grid_auto_rows": null,
            "grid_column": null,
            "grid_gap": null,
            "grid_row": null,
            "grid_template_areas": null,
            "grid_template_columns": null,
            "grid_template_rows": null,
            "height": null,
            "justify_content": null,
            "justify_items": null,
            "left": null,
            "margin": null,
            "max_height": null,
            "max_width": null,
            "min_height": null,
            "min_width": null,
            "object_fit": null,
            "object_position": null,
            "order": null,
            "overflow": null,
            "overflow_x": null,
            "overflow_y": null,
            "padding": null,
            "right": null,
            "top": null,
            "visibility": null,
            "width": null
          }
        },
        "e55a0d79d0c4448db5cbd225217f6275": {
          "model_module": "@jupyter-widgets/controls",
          "model_module_version": "1.5.0",
          "model_name": "FloatProgressModel",
          "state": {
            "_dom_classes": [],
            "_model_module": "@jupyter-widgets/controls",
            "_model_module_version": "1.5.0",
            "_model_name": "FloatProgressModel",
            "_view_count": null,
            "_view_module": "@jupyter-widgets/controls",
            "_view_module_version": "1.5.0",
            "_view_name": "ProgressView",
            "bar_style": "success",
            "description": "",
            "description_tooltip": null,
            "layout": "IPY_MODEL_8175f8464c9647589e4868bac9bafa68",
            "max": 1961828,
            "min": 0,
            "orientation": "horizontal",
            "style": "IPY_MODEL_afc48ea94d4742cf8ff1497a727bf5d6",
            "value": 1961828
          }
        },
        "e75c63ee1cfc481eab4fce7ba04d2e17": {
          "model_module": "@jupyter-widgets/controls",
          "model_module_version": "1.5.0",
          "model_name": "HTMLModel",
          "state": {
            "_dom_classes": [],
            "_model_module": "@jupyter-widgets/controls",
            "_model_module_version": "1.5.0",
            "_model_name": "HTMLModel",
            "_view_count": null,
            "_view_module": "@jupyter-widgets/controls",
            "_view_module_version": "1.5.0",
            "_view_name": "HTMLView",
            "description": "",
            "description_tooltip": null,
            "layout": "IPY_MODEL_ce112f424a574ba2849d314c0dd04a4a",
            "placeholder": "​",
            "style": "IPY_MODEL_4655dc011c9c41e783f4048f3871caad",
            "value": "model.safetensors: 100%"
          }
        },
        "e89e0c247514429d82412fc51ec3eee5": {
          "model_module": "@jupyter-widgets/base",
          "model_module_version": "1.2.0",
          "model_name": "LayoutModel",
          "state": {
            "_model_module": "@jupyter-widgets/base",
            "_model_module_version": "1.2.0",
            "_model_name": "LayoutModel",
            "_view_count": null,
            "_view_module": "@jupyter-widgets/base",
            "_view_module_version": "1.2.0",
            "_view_name": "LayoutView",
            "align_content": null,
            "align_items": null,
            "align_self": null,
            "border": null,
            "bottom": null,
            "display": null,
            "flex": null,
            "flex_flow": null,
            "grid_area": null,
            "grid_auto_columns": null,
            "grid_auto_flow": null,
            "grid_auto_rows": null,
            "grid_column": null,
            "grid_gap": null,
            "grid_row": null,
            "grid_template_areas": null,
            "grid_template_columns": null,
            "grid_template_rows": null,
            "height": null,
            "justify_content": null,
            "justify_items": null,
            "left": null,
            "margin": null,
            "max_height": null,
            "max_width": null,
            "min_height": null,
            "min_width": null,
            "object_fit": null,
            "object_position": null,
            "order": null,
            "overflow": null,
            "overflow_x": null,
            "overflow_y": null,
            "padding": null,
            "right": null,
            "top": null,
            "visibility": null,
            "width": null
          }
        },
        "e98657a0646f45a893ad5522235f1198": {
          "model_module": "@jupyter-widgets/controls",
          "model_module_version": "1.5.0",
          "model_name": "DescriptionStyleModel",
          "state": {
            "_model_module": "@jupyter-widgets/controls",
            "_model_module_version": "1.5.0",
            "_model_name": "DescriptionStyleModel",
            "_view_count": null,
            "_view_module": "@jupyter-widgets/base",
            "_view_module_version": "1.2.0",
            "_view_name": "StyleView",
            "description_width": ""
          }
        },
        "eee384780557499989515b7d3a3475f2": {
          "model_module": "@jupyter-widgets/controls",
          "model_module_version": "1.5.0",
          "model_name": "ProgressStyleModel",
          "state": {
            "_model_module": "@jupyter-widgets/controls",
            "_model_module_version": "1.5.0",
            "_model_name": "ProgressStyleModel",
            "_view_count": null,
            "_view_module": "@jupyter-widgets/base",
            "_view_module_version": "1.2.0",
            "_view_name": "StyleView",
            "bar_color": null,
            "description_width": ""
          }
        },
        "f7752c00309842f1adfb481d6ba44924": {
          "model_module": "@jupyter-widgets/controls",
          "model_module_version": "1.5.0",
          "model_name": "HBoxModel",
          "state": {
            "_dom_classes": [],
            "_model_module": "@jupyter-widgets/controls",
            "_model_module_version": "1.5.0",
            "_model_name": "HBoxModel",
            "_view_count": null,
            "_view_module": "@jupyter-widgets/controls",
            "_view_module_version": "1.5.0",
            "_view_name": "HBoxView",
            "box_style": "",
            "children": [
              "IPY_MODEL_54d541048beb4bca90035c13fbaaaad8",
              "IPY_MODEL_51dc671e8dba44618bacaf64853af069",
              "IPY_MODEL_59115b41a8d749c29b646e31267811b7"
            ],
            "layout": "IPY_MODEL_0fb1b6a9e099470e8126f5df2312708e"
          }
        },
        "f9b04c67dd254acda9aeee45919717d5": {
          "model_module": "@jupyter-widgets/controls",
          "model_module_version": "1.5.0",
          "model_name": "FloatProgressModel",
          "state": {
            "_dom_classes": [],
            "_model_module": "@jupyter-widgets/controls",
            "_model_module_version": "1.5.0",
            "_model_name": "FloatProgressModel",
            "_view_count": null,
            "_view_module": "@jupyter-widgets/controls",
            "_view_module_version": "1.5.0",
            "_view_name": "ProgressView",
            "bar_style": "success",
            "description": "",
            "description_tooltip": null,
            "layout": "IPY_MODEL_60b93889d3674e53a29ef27d68154bda",
            "max": 714290682,
            "min": 0,
            "orientation": "horizontal",
            "style": "IPY_MODEL_115ecc23e8504f4a901404f02db357ae",
            "value": 714290682
          }
        },
        "f9ecce0a56c347aaabfa5c65e851cc66": {
          "model_module": "@jupyter-widgets/base",
          "model_module_version": "1.2.0",
          "model_name": "LayoutModel",
          "state": {
            "_model_module": "@jupyter-widgets/base",
            "_model_module_version": "1.2.0",
            "_model_name": "LayoutModel",
            "_view_count": null,
            "_view_module": "@jupyter-widgets/base",
            "_view_module_version": "1.2.0",
            "_view_name": "LayoutView",
            "align_content": null,
            "align_items": null,
            "align_self": null,
            "border": null,
            "bottom": null,
            "display": null,
            "flex": null,
            "flex_flow": null,
            "grid_area": null,
            "grid_auto_columns": null,
            "grid_auto_flow": null,
            "grid_auto_rows": null,
            "grid_column": null,
            "grid_gap": null,
            "grid_row": null,
            "grid_template_areas": null,
            "grid_template_columns": null,
            "grid_template_rows": null,
            "height": null,
            "justify_content": null,
            "justify_items": null,
            "left": null,
            "margin": null,
            "max_height": null,
            "max_width": null,
            "min_height": null,
            "min_width": null,
            "object_fit": null,
            "object_position": null,
            "order": null,
            "overflow": null,
            "overflow_x": null,
            "overflow_y": null,
            "padding": null,
            "right": null,
            "top": null,
            "visibility": null,
            "width": null
          }
        },
        "fa2545e7c35b4459bf000d0380713c9e": {
          "model_module": "@jupyter-widgets/controls",
          "model_module_version": "1.5.0",
          "model_name": "DescriptionStyleModel",
          "state": {
            "_model_module": "@jupyter-widgets/controls",
            "_model_module_version": "1.5.0",
            "_model_name": "DescriptionStyleModel",
            "_view_count": null,
            "_view_module": "@jupyter-widgets/base",
            "_view_module_version": "1.2.0",
            "_view_name": "StyleView",
            "description_width": ""
          }
        },
        "fe448a8998e749e5b2d0da7bc7c160ca": {
          "model_module": "@jupyter-widgets/base",
          "model_module_version": "1.2.0",
          "model_name": "LayoutModel",
          "state": {
            "_model_module": "@jupyter-widgets/base",
            "_model_module_version": "1.2.0",
            "_model_name": "LayoutModel",
            "_view_count": null,
            "_view_module": "@jupyter-widgets/base",
            "_view_module_version": "1.2.0",
            "_view_name": "LayoutView",
            "align_content": null,
            "align_items": null,
            "align_self": null,
            "border": null,
            "bottom": null,
            "display": null,
            "flex": null,
            "flex_flow": null,
            "grid_area": null,
            "grid_auto_columns": null,
            "grid_auto_flow": null,
            "grid_auto_rows": null,
            "grid_column": null,
            "grid_gap": null,
            "grid_row": null,
            "grid_template_areas": null,
            "grid_template_columns": null,
            "grid_template_rows": null,
            "height": null,
            "justify_content": null,
            "justify_items": null,
            "left": null,
            "margin": null,
            "max_height": null,
            "max_width": null,
            "min_height": null,
            "min_width": null,
            "object_fit": null,
            "object_position": null,
            "order": null,
            "overflow": null,
            "overflow_x": null,
            "overflow_y": null,
            "padding": null,
            "right": null,
            "top": null,
            "visibility": null,
            "width": null
          }
        }
      }
    }
  },
  "nbformat": 4,
  "nbformat_minor": 0
}
